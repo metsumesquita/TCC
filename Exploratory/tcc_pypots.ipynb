{
  "nbformat": 4,
  "nbformat_minor": 0,
  "metadata": {
    "colab": {
      "provenance": [],
      "collapsed_sections": [
        "oju8Dj3lFai_",
        "MyKbVJ9iQS2N"
      ],
      "authorship_tag": "ABX9TyP23uc13BLU5Nrh/4LwmzUQ",
      "include_colab_link": true
    },
    "kernelspec": {
      "name": "python3",
      "display_name": "Python 3"
    },
    "language_info": {
      "name": "python"
    }
  },
  "cells": [
    {
      "cell_type": "markdown",
      "metadata": {
        "id": "view-in-github",
        "colab_type": "text"
      },
      "source": [
        "<a href=\"https://colab.research.google.com/github/metsumesquita/TCC/blob/main/Exploratory/tcc_pypots.ipynb\" target=\"_parent\"><img src=\"https://colab.research.google.com/assets/colab-badge.svg\" alt=\"Open In Colab\"/></a>"
      ]
    },
    {
      "cell_type": "markdown",
      "source": [
        "ALL TASK THAAT NEED TO BE DONE\n",
        "\n",
        "```\n",
        "\n",
        "media\n",
        "desvio padrao\n",
        "mapa de calor\n",
        "bOXPLOT POR MODELO\n",
        "BOX POR PORCENTAGEM\n",
        "\n",
        "\n",
        "```\n"
      ],
      "metadata": {
        "id": "4cZAtGY9Xc8B"
      }
    },
    {
      "cell_type": "markdown",
      "source": [
        "#import and install"
      ],
      "metadata": {
        "id": "doh-IBsgRgKp"
      }
    },
    {
      "cell_type": "code",
      "source": [
        "pip install scikit-learn"
      ],
      "metadata": {
        "colab": {
          "base_uri": "https://localhost:8080/"
        },
        "id": "VhBCc3ed_LcD",
        "outputId": "0a592a3c-fcd3-4fd2-d35d-1887b19084e0"
      },
      "execution_count": null,
      "outputs": [
        {
          "output_type": "stream",
          "name": "stdout",
          "text": [
            "Requirement already satisfied: scikit-learn in /usr/local/lib/python3.10/dist-packages (1.2.2)\n",
            "Requirement already satisfied: numpy>=1.17.3 in /usr/local/lib/python3.10/dist-packages (from scikit-learn) (1.25.2)\n",
            "Requirement already satisfied: scipy>=1.3.2 in /usr/local/lib/python3.10/dist-packages (from scikit-learn) (1.11.4)\n",
            "Requirement already satisfied: joblib>=1.1.1 in /usr/local/lib/python3.10/dist-packages (from scikit-learn) (1.3.2)\n",
            "Requirement already satisfied: threadpoolctl>=2.0.0 in /usr/local/lib/python3.10/dist-packages (from scikit-learn) (3.3.0)\n"
          ]
        }
      ]
    },
    {
      "cell_type": "code",
      "execution_count": null,
      "metadata": {
        "id": "SWAXZSzDUzuU"
      },
      "outputs": [],
      "source": [
        "import matplotlib.pyplot as plt\n",
        "import sklearn\n",
        "import statsmodels.api as sm\n",
        "import seaborn as sns\n",
        "import numpy as np # Manipulação de arrays e uso de funções matemáticas\n",
        "import pandas as pd # Manipulação de dados em dataframes;\n",
        "import seaborn as sns # Visualização de dados\n",
        "import matplotlib.pyplot as plt # Visualização de dados\n",
        "from sklearn.model_selection import train_test_split # Dividir conjunto de dados em treino e teste\n",
        "from sklearn.preprocessing import MinMaxScaler # Normalização\n",
        "from sklearn.neural_network import MLPClassifier # MLP\n",
        "# from tensorflow.keras.utils import to_categorical # Modificação do vetor de rótulos para dados categóricos\n",
        "from sklearn.cluster import KMeans # KMEans"
      ]
    },
    {
      "cell_type": "markdown",
      "source": [
        "violinplot\n",
        "---\n",
        "[violine analise](https://acervolima.com/trama-de-violino-para-analise-de-dados/)\n",
        "---"
      ],
      "metadata": {
        "id": "iNBPh-cWPOQh"
      }
    },
    {
      "cell_type": "markdown",
      "source": [
        "#boxplot - o que voce precisa para concluir\n",
        "\n",
        "  ---\n",
        "[como interpretar]( https://blog.proffernandamaciel.com.br/como-ler-um-boxplot/)\n",
        "\n",
        "[interpretação+codigo](https://lucasmbribeiro.medium.com/boxplot-1c8d2e0cb158)\n",
        "\n",
        "[encontrar e remover outliers](https://towardsdatascience.com/ways-to-detect-and-remove-the-outliers-404d16608dba)\n",
        "\n",
        "[outlier dection ](https://medium.com/@agarwal.vishal819/outlier-detection-with-boxplots-1b6757fafa21#id_token=eyJhbGciOiJSUzI1NiIsImtpZCI6IjZmOTc3N2E2ODU5MDc3OThlZjc5NDA2MmMwMGI2NWQ2NmMyNDBiMWIiLCJ0eXAiOiJKV1QifQ.eyJpc3MiOiJodHRwczovL2FjY291bnRzLmdvb2dsZS5jb20iLCJhenAiOiIyMTYyOTYwMzU4MzQtazFrNnFlMDYwczJ0cDJhMmphbTRsamRjbXMwMHN0dGcuYXBwcy5nb29nbGV1c2VyY29udGVudC5jb20iLCJhdWQiOiIyMTYyOTYwMzU4MzQtazFrNnFlMDYwczJ0cDJhMmphbTRsamRjbXMwMHN0dGcuYXBwcy5nb29nbGV1c2VyY29udGVudC5jb20iLCJzdWIiOiIxMTc0NTQ0ODc1Mjk1NTkwMjQxMzQiLCJlbWFpbCI6Inl1dWtvc2FuOThAZ21haWwuY29tIiwiZW1haWxfdmVyaWZpZWQiOnRydWUsIm5iZiI6MTcwOTMxNTY0OCwibmFtZSI6IlRoYWlzIE1lc3F1aXRhIiwicGljdHVyZSI6Imh0dHBzOi8vbGgzLmdvb2dsZXVzZXJjb250ZW50LmNvbS9hL0FDZzhvY0tRa0F4ZGpBNTVlNklDcC1XaHJpWlRFNVB3bHNDbUVSVTVSVG81VHFHdFVGVF89czk2LWMiLCJnaXZlbl9uYW1lIjoiVGhhaXMiLCJmYW1pbHlfbmFtZSI6Ik1lc3F1aXRhIiwibG9jYWxlIjoicHQtQlIiLCJpYXQiOjE3MDkzMTU5NDgsImV4cCI6MTcwOTMxOTU0OCwianRpIjoiYzIyM2Q1NWFiNDU2OTFjZjViMTNlMTBlNGM1ODg5ZjFlN2JjOTgyYiJ9.L6xL6pgxTWmoU8ijpJeBc4c69Q9418Lc3AElsaqf3WYpbsuL8p-yI1L3tLcC3Z4t5E02q0L1YhUIo24B1dulp5RqS3j6B-L7gCOlkokM1NQH2bFEh2-NBWsU12k4WWPh0cUzyDSRf6ZuULT6KUet2MVxf4qXqyhUeLDB0O1HLAfubQfHZ6OGDH9Ynq4Up4IF2rUQpX9DgJvaCxCQdsYLFyrletDGbbrTssu6iJOd-16VBlHXJpx76ZDG2qWEEBNniGMifYJ9t2oNaNwUgr8E8ClF8ZnLkg8D6LM7n3jba6oBPxUTtjRyn8wYjaMaLAJp3JfRJ61Iwaw9hwdzQ8fyuQ)\n",
        "\n",
        "[tratamento do outlier](https://medium.com/analytics-vidhya/outlier-treatment-9bbe87384d02)\n",
        "\n",
        "[boxplot entendendo- EN](https://medium.com/swlh/understanding-box-and-whisker-plot-275e9163eac0)\n",
        "\n",
        "[boxplot codigo usando matplotlib](https://medium.com/@daniele.santiago/boxplot-como-interpretar-e-plotar-em-python-d80f929eae3b#:~:text=O%20boxplot%20mostra%20a%20distribui%C3%A7%C3%A3o,muito%20bem%20compreendido%20e%20utilizado.)\n",
        "\n",
        "[explicação muito bom com exemplos](https://medium.com/@ingoreichertjr/boxplot-e-histograma-como-interpretar-e044b2bb2e2d)\n",
        "\n",
        "[sns and matplotlib](https://medium.com/20-21/boxplot-com-python-usando-matplotlib-e-seaborn-be42cea47a6c)\n",
        "\n",
        "[video de explicaçãp sobre boxplot e a matematica dele](https://youtu.be/Yp819pOUptc)\n",
        "\n",
        "  ---\n",
        "Limite inferior: Menor valor observado maior ou igual a Q1 – 1,5IQ\n",
        "\n",
        "Limite superior: Maior valor observado menor ou igual a Q3 + 1,5IQ\n",
        "\n",
        "Mediana: Valor central de um conjunto numérico\n",
        "\n",
        "Todos os valores que ultrapassam os limites, são outliers.\n",
        "\n",
        "IQR : Q3-Q1\n",
        "\n",
        "  Quanto maior a caixa, mais dispersos os dados. Quanto menor, menos dispersos os dados."
      ],
      "metadata": {
        "id": "-QkbusCfNdbf"
      }
    },
    {
      "cell_type": "markdown",
      "source": [
        "# [tabela 2 - planilha data ](https://docs.google.com/spreadsheets/d/1D1A_YmVVpCafciGFXHH-hwgkKfJk1MFYZIUKT092tSI/edit#gid=1644549931)\n",
        "\n",
        "```\n",
        "porcentagem de dados faltantes,rodada,SAITS,USGAN,GPVAE,brits,MNN\n",
        "\n",
        "```\n"
      ],
      "metadata": {
        "id": "saFjksOqHC19"
      }
    },
    {
      "cell_type": "code",
      "source": [
        "dataset=pd.read_csv('datasetstest - organized.csv')\n"
      ],
      "metadata": {
        "id": "dZSJBbvKZ44d",
        "colab": {
          "base_uri": "https://localhost:8080/",
          "height": 141
        },
        "outputId": "714c6168-579d-468c-e2b1-a6978153fd87"
      },
      "execution_count": null,
      "outputs": [
        {
          "output_type": "error",
          "ename": "NameError",
          "evalue": "name 'pd' is not defined",
          "traceback": [
            "\u001b[0;31m---------------------------------------------------------------------------\u001b[0m",
            "\u001b[0;31mNameError\u001b[0m                                 Traceback (most recent call last)",
            "\u001b[0;32m<ipython-input-2-4802d796fcea>\u001b[0m in \u001b[0;36m<cell line: 1>\u001b[0;34m()\u001b[0m\n\u001b[0;32m----> 1\u001b[0;31m \u001b[0mdataset\u001b[0m\u001b[0;34m=\u001b[0m\u001b[0mpd\u001b[0m\u001b[0;34m.\u001b[0m\u001b[0mread_csv\u001b[0m\u001b[0;34m(\u001b[0m\u001b[0;34m'datasetstest - organized.csv'\u001b[0m\u001b[0;34m)\u001b[0m\u001b[0;34m\u001b[0m\u001b[0;34m\u001b[0m\u001b[0m\n\u001b[0m",
            "\u001b[0;31mNameError\u001b[0m: name 'pd' is not defined"
          ]
        }
      ]
    },
    {
      "cell_type": "code",
      "source": [
        "dataset.info()"
      ],
      "metadata": {
        "colab": {
          "base_uri": "https://localhost:8080/"
        },
        "id": "IJ590v8Kc3Lf",
        "outputId": "aedf7d56-7858-4f6d-dee8-bc15d4714410"
      },
      "execution_count": null,
      "outputs": [
        {
          "output_type": "stream",
          "name": "stdout",
          "text": [
            "<class 'pandas.core.frame.DataFrame'>\n",
            "RangeIndex: 50 entries, 0 to 49\n",
            "Data columns (total 7 columns):\n",
            " #   Column                          Non-Null Count  Dtype \n",
            "---  ------                          --------------  ----- \n",
            " 0   porcentagem de dados faltantes  50 non-null     int64 \n",
            " 1   SAITS                           50 non-null     object\n",
            " 2   USGAN                           50 non-null     object\n",
            " 3   GPVAE                           50 non-null     object\n",
            " 4   brits                           50 non-null     object\n",
            " 5   MNN                             50 non-null     object\n",
            " 6   rodada                          50 non-null     int64 \n",
            "dtypes: int64(2), object(5)\n",
            "memory usage: 2.9+ KB\n"
          ]
        }
      ]
    },
    {
      "cell_type": "markdown",
      "source": [
        "3informações e tratamentos feitos\n",
        "---\n",
        "\n",
        "Os testes foram rodados 10 vezes\n",
        "\n",
        "o dataframe vai de 10% ate 50 % de dados faltantes artificiais\n",
        "\n",
        "retirada do caractere :\n",
        "tranformando objetos em numeros\n",
        "\n",
        "---"
      ],
      "metadata": {
        "id": "wES1a1w9BJJy"
      }
    },
    {
      "cell_type": "code",
      "source": [
        "dataset['SAITS'] = dataset['SAITS'].replace(':', '', regex=True)\n",
        "dataset['USGAN'] = dataset['USGAN'].replace(':', '', regex=True)\n",
        "dataset['GPVAE'] = dataset['GPVAE'].replace(':', '', regex=True)\n",
        "dataset['brits'] = dataset['brits'].replace(':', '', regex=True)\n",
        "dataset['MNN'] = dataset['MNN'].replace(':', '', regex=True)"
      ],
      "metadata": {
        "id": "H9hrNBXzjgAF"
      },
      "execution_count": null,
      "outputs": []
    },
    {
      "cell_type": "code",
      "source": [
        "dataset.head()"
      ],
      "metadata": {
        "colab": {
          "base_uri": "https://localhost:8080/",
          "height": 206
        },
        "id": "rDz8U0dF0KLR",
        "outputId": "e14464d5-0fbd-49bf-930b-bb029025e046"
      },
      "execution_count": null,
      "outputs": [
        {
          "output_type": "execute_result",
          "data": {
            "text/plain": [
              "   porcentagem de dados faltantes   SAITS   USGAN   GPVAE   brits     MNN  \\\n",
              "0                              10  0.2274  0.2718  0.4561  0.2541  0.6994   \n",
              "1                              10  0.2318  0.2696  0.4493  0.2542  0.7026   \n",
              "2                              10  0.2287  0.2712  0.4484  0.2548  0.6950   \n",
              "3                              10  0.2313  0.2705  0.4575  0.2539  0.7014   \n",
              "4                              10  0.2305  0.2721  0.4575  0.2546  0.6864   \n",
              "\n",
              "   rodada  \n",
              "0       1  \n",
              "1       2  \n",
              "2       3  \n",
              "3       4  \n",
              "4       5  "
            ],
            "text/html": [
              "\n",
              "  <div id=\"df-583375c2-4705-4aa2-bbcf-1807595749cf\" class=\"colab-df-container\">\n",
              "    <div>\n",
              "<style scoped>\n",
              "    .dataframe tbody tr th:only-of-type {\n",
              "        vertical-align: middle;\n",
              "    }\n",
              "\n",
              "    .dataframe tbody tr th {\n",
              "        vertical-align: top;\n",
              "    }\n",
              "\n",
              "    .dataframe thead th {\n",
              "        text-align: right;\n",
              "    }\n",
              "</style>\n",
              "<table border=\"1\" class=\"dataframe\">\n",
              "  <thead>\n",
              "    <tr style=\"text-align: right;\">\n",
              "      <th></th>\n",
              "      <th>porcentagem de dados faltantes</th>\n",
              "      <th>SAITS</th>\n",
              "      <th>USGAN</th>\n",
              "      <th>GPVAE</th>\n",
              "      <th>brits</th>\n",
              "      <th>MNN</th>\n",
              "      <th>rodada</th>\n",
              "    </tr>\n",
              "  </thead>\n",
              "  <tbody>\n",
              "    <tr>\n",
              "      <th>0</th>\n",
              "      <td>10</td>\n",
              "      <td>0.2274</td>\n",
              "      <td>0.2718</td>\n",
              "      <td>0.4561</td>\n",
              "      <td>0.2541</td>\n",
              "      <td>0.6994</td>\n",
              "      <td>1</td>\n",
              "    </tr>\n",
              "    <tr>\n",
              "      <th>1</th>\n",
              "      <td>10</td>\n",
              "      <td>0.2318</td>\n",
              "      <td>0.2696</td>\n",
              "      <td>0.4493</td>\n",
              "      <td>0.2542</td>\n",
              "      <td>0.7026</td>\n",
              "      <td>2</td>\n",
              "    </tr>\n",
              "    <tr>\n",
              "      <th>2</th>\n",
              "      <td>10</td>\n",
              "      <td>0.2287</td>\n",
              "      <td>0.2712</td>\n",
              "      <td>0.4484</td>\n",
              "      <td>0.2548</td>\n",
              "      <td>0.6950</td>\n",
              "      <td>3</td>\n",
              "    </tr>\n",
              "    <tr>\n",
              "      <th>3</th>\n",
              "      <td>10</td>\n",
              "      <td>0.2313</td>\n",
              "      <td>0.2705</td>\n",
              "      <td>0.4575</td>\n",
              "      <td>0.2539</td>\n",
              "      <td>0.7014</td>\n",
              "      <td>4</td>\n",
              "    </tr>\n",
              "    <tr>\n",
              "      <th>4</th>\n",
              "      <td>10</td>\n",
              "      <td>0.2305</td>\n",
              "      <td>0.2721</td>\n",
              "      <td>0.4575</td>\n",
              "      <td>0.2546</td>\n",
              "      <td>0.6864</td>\n",
              "      <td>5</td>\n",
              "    </tr>\n",
              "  </tbody>\n",
              "</table>\n",
              "</div>\n",
              "    <div class=\"colab-df-buttons\">\n",
              "\n",
              "  <div class=\"colab-df-container\">\n",
              "    <button class=\"colab-df-convert\" onclick=\"convertToInteractive('df-583375c2-4705-4aa2-bbcf-1807595749cf')\"\n",
              "            title=\"Convert this dataframe to an interactive table.\"\n",
              "            style=\"display:none;\">\n",
              "\n",
              "  <svg xmlns=\"http://www.w3.org/2000/svg\" height=\"24px\" viewBox=\"0 -960 960 960\">\n",
              "    <path d=\"M120-120v-720h720v720H120Zm60-500h600v-160H180v160Zm220 220h160v-160H400v160Zm0 220h160v-160H400v160ZM180-400h160v-160H180v160Zm440 0h160v-160H620v160ZM180-180h160v-160H180v160Zm440 0h160v-160H620v160Z\"/>\n",
              "  </svg>\n",
              "    </button>\n",
              "\n",
              "  <style>\n",
              "    .colab-df-container {\n",
              "      display:flex;\n",
              "      gap: 12px;\n",
              "    }\n",
              "\n",
              "    .colab-df-convert {\n",
              "      background-color: #E8F0FE;\n",
              "      border: none;\n",
              "      border-radius: 50%;\n",
              "      cursor: pointer;\n",
              "      display: none;\n",
              "      fill: #1967D2;\n",
              "      height: 32px;\n",
              "      padding: 0 0 0 0;\n",
              "      width: 32px;\n",
              "    }\n",
              "\n",
              "    .colab-df-convert:hover {\n",
              "      background-color: #E2EBFA;\n",
              "      box-shadow: 0px 1px 2px rgba(60, 64, 67, 0.3), 0px 1px 3px 1px rgba(60, 64, 67, 0.15);\n",
              "      fill: #174EA6;\n",
              "    }\n",
              "\n",
              "    .colab-df-buttons div {\n",
              "      margin-bottom: 4px;\n",
              "    }\n",
              "\n",
              "    [theme=dark] .colab-df-convert {\n",
              "      background-color: #3B4455;\n",
              "      fill: #D2E3FC;\n",
              "    }\n",
              "\n",
              "    [theme=dark] .colab-df-convert:hover {\n",
              "      background-color: #434B5C;\n",
              "      box-shadow: 0px 1px 3px 1px rgba(0, 0, 0, 0.15);\n",
              "      filter: drop-shadow(0px 1px 2px rgba(0, 0, 0, 0.3));\n",
              "      fill: #FFFFFF;\n",
              "    }\n",
              "  </style>\n",
              "\n",
              "    <script>\n",
              "      const buttonEl =\n",
              "        document.querySelector('#df-583375c2-4705-4aa2-bbcf-1807595749cf button.colab-df-convert');\n",
              "      buttonEl.style.display =\n",
              "        google.colab.kernel.accessAllowed ? 'block' : 'none';\n",
              "\n",
              "      async function convertToInteractive(key) {\n",
              "        const element = document.querySelector('#df-583375c2-4705-4aa2-bbcf-1807595749cf');\n",
              "        const dataTable =\n",
              "          await google.colab.kernel.invokeFunction('convertToInteractive',\n",
              "                                                    [key], {});\n",
              "        if (!dataTable) return;\n",
              "\n",
              "        const docLinkHtml = 'Like what you see? Visit the ' +\n",
              "          '<a target=\"_blank\" href=https://colab.research.google.com/notebooks/data_table.ipynb>data table notebook</a>'\n",
              "          + ' to learn more about interactive tables.';\n",
              "        element.innerHTML = '';\n",
              "        dataTable['output_type'] = 'display_data';\n",
              "        await google.colab.output.renderOutput(dataTable, element);\n",
              "        const docLink = document.createElement('div');\n",
              "        docLink.innerHTML = docLinkHtml;\n",
              "        element.appendChild(docLink);\n",
              "      }\n",
              "    </script>\n",
              "  </div>\n",
              "\n",
              "\n",
              "<div id=\"df-275ce3e5-7a8d-429b-951d-7f9a552bd8d4\">\n",
              "  <button class=\"colab-df-quickchart\" onclick=\"quickchart('df-275ce3e5-7a8d-429b-951d-7f9a552bd8d4')\"\n",
              "            title=\"Suggest charts\"\n",
              "            style=\"display:none;\">\n",
              "\n",
              "<svg xmlns=\"http://www.w3.org/2000/svg\" height=\"24px\"viewBox=\"0 0 24 24\"\n",
              "     width=\"24px\">\n",
              "    <g>\n",
              "        <path d=\"M19 3H5c-1.1 0-2 .9-2 2v14c0 1.1.9 2 2 2h14c1.1 0 2-.9 2-2V5c0-1.1-.9-2-2-2zM9 17H7v-7h2v7zm4 0h-2V7h2v10zm4 0h-2v-4h2v4z\"/>\n",
              "    </g>\n",
              "</svg>\n",
              "  </button>\n",
              "\n",
              "<style>\n",
              "  .colab-df-quickchart {\n",
              "      --bg-color: #E8F0FE;\n",
              "      --fill-color: #1967D2;\n",
              "      --hover-bg-color: #E2EBFA;\n",
              "      --hover-fill-color: #174EA6;\n",
              "      --disabled-fill-color: #AAA;\n",
              "      --disabled-bg-color: #DDD;\n",
              "  }\n",
              "\n",
              "  [theme=dark] .colab-df-quickchart {\n",
              "      --bg-color: #3B4455;\n",
              "      --fill-color: #D2E3FC;\n",
              "      --hover-bg-color: #434B5C;\n",
              "      --hover-fill-color: #FFFFFF;\n",
              "      --disabled-bg-color: #3B4455;\n",
              "      --disabled-fill-color: #666;\n",
              "  }\n",
              "\n",
              "  .colab-df-quickchart {\n",
              "    background-color: var(--bg-color);\n",
              "    border: none;\n",
              "    border-radius: 50%;\n",
              "    cursor: pointer;\n",
              "    display: none;\n",
              "    fill: var(--fill-color);\n",
              "    height: 32px;\n",
              "    padding: 0;\n",
              "    width: 32px;\n",
              "  }\n",
              "\n",
              "  .colab-df-quickchart:hover {\n",
              "    background-color: var(--hover-bg-color);\n",
              "    box-shadow: 0 1px 2px rgba(60, 64, 67, 0.3), 0 1px 3px 1px rgba(60, 64, 67, 0.15);\n",
              "    fill: var(--button-hover-fill-color);\n",
              "  }\n",
              "\n",
              "  .colab-df-quickchart-complete:disabled,\n",
              "  .colab-df-quickchart-complete:disabled:hover {\n",
              "    background-color: var(--disabled-bg-color);\n",
              "    fill: var(--disabled-fill-color);\n",
              "    box-shadow: none;\n",
              "  }\n",
              "\n",
              "  .colab-df-spinner {\n",
              "    border: 2px solid var(--fill-color);\n",
              "    border-color: transparent;\n",
              "    border-bottom-color: var(--fill-color);\n",
              "    animation:\n",
              "      spin 1s steps(1) infinite;\n",
              "  }\n",
              "\n",
              "  @keyframes spin {\n",
              "    0% {\n",
              "      border-color: transparent;\n",
              "      border-bottom-color: var(--fill-color);\n",
              "      border-left-color: var(--fill-color);\n",
              "    }\n",
              "    20% {\n",
              "      border-color: transparent;\n",
              "      border-left-color: var(--fill-color);\n",
              "      border-top-color: var(--fill-color);\n",
              "    }\n",
              "    30% {\n",
              "      border-color: transparent;\n",
              "      border-left-color: var(--fill-color);\n",
              "      border-top-color: var(--fill-color);\n",
              "      border-right-color: var(--fill-color);\n",
              "    }\n",
              "    40% {\n",
              "      border-color: transparent;\n",
              "      border-right-color: var(--fill-color);\n",
              "      border-top-color: var(--fill-color);\n",
              "    }\n",
              "    60% {\n",
              "      border-color: transparent;\n",
              "      border-right-color: var(--fill-color);\n",
              "    }\n",
              "    80% {\n",
              "      border-color: transparent;\n",
              "      border-right-color: var(--fill-color);\n",
              "      border-bottom-color: var(--fill-color);\n",
              "    }\n",
              "    90% {\n",
              "      border-color: transparent;\n",
              "      border-bottom-color: var(--fill-color);\n",
              "    }\n",
              "  }\n",
              "</style>\n",
              "\n",
              "  <script>\n",
              "    async function quickchart(key) {\n",
              "      const quickchartButtonEl =\n",
              "        document.querySelector('#' + key + ' button');\n",
              "      quickchartButtonEl.disabled = true;  // To prevent multiple clicks.\n",
              "      quickchartButtonEl.classList.add('colab-df-spinner');\n",
              "      try {\n",
              "        const charts = await google.colab.kernel.invokeFunction(\n",
              "            'suggestCharts', [key], {});\n",
              "      } catch (error) {\n",
              "        console.error('Error during call to suggestCharts:', error);\n",
              "      }\n",
              "      quickchartButtonEl.classList.remove('colab-df-spinner');\n",
              "      quickchartButtonEl.classList.add('colab-df-quickchart-complete');\n",
              "    }\n",
              "    (() => {\n",
              "      let quickchartButtonEl =\n",
              "        document.querySelector('#df-275ce3e5-7a8d-429b-951d-7f9a552bd8d4 button');\n",
              "      quickchartButtonEl.style.display =\n",
              "        google.colab.kernel.accessAllowed ? 'block' : 'none';\n",
              "    })();\n",
              "  </script>\n",
              "</div>\n",
              "\n",
              "    </div>\n",
              "  </div>\n"
            ],
            "application/vnd.google.colaboratory.intrinsic+json": {
              "type": "dataframe",
              "variable_name": "dataset",
              "summary": "{\n  \"name\": \"dataset\",\n  \"rows\": 50,\n  \"fields\": [\n    {\n      \"column\": \"porcentagem de dados faltantes\",\n      \"properties\": {\n        \"dtype\": \"number\",\n        \"std\": 14,\n        \"min\": 10,\n        \"max\": 50,\n        \"num_unique_values\": 5,\n        \"samples\": [\n          20,\n          50,\n          30\n        ],\n        \"semantic_type\": \"\",\n        \"description\": \"\"\n      }\n    },\n    {\n      \"column\": \"SAITS\",\n      \"properties\": {\n        \"dtype\": \"string\",\n        \"num_unique_values\": 45,\n        \"samples\": [\n          \"0.3178\",\n          \"0.2659\",\n          \"0.2842\"\n        ],\n        \"semantic_type\": \"\",\n        \"description\": \"\"\n      }\n    },\n    {\n      \"column\": \"USGAN\",\n      \"properties\": {\n        \"dtype\": \"string\",\n        \"num_unique_values\": 45,\n        \"samples\": [\n          \"0.3372\",\n          \"0.3034\",\n          \"0.3024\"\n        ],\n        \"semantic_type\": \"\",\n        \"description\": \"\"\n      }\n    },\n    {\n      \"column\": \"GPVAE\",\n      \"properties\": {\n        \"dtype\": \"string\",\n        \"num_unique_values\": 44,\n        \"samples\": [\n          \"0.5076\",\n          \"0.4725\",\n          \"0.5248\"\n        ],\n        \"semantic_type\": \"\",\n        \"description\": \"\"\n      }\n    },\n    {\n      \"column\": \"brits\",\n      \"properties\": {\n        \"dtype\": \"string\",\n        \"num_unique_values\": 45,\n        \"samples\": [\n          \"0.3412\",\n          \"0.3175\",\n          \"0.3172\"\n        ],\n        \"semantic_type\": \"\",\n        \"description\": \"\"\n      }\n    },\n    {\n      \"column\": \"MNN\",\n      \"properties\": {\n        \"dtype\": \"string\",\n        \"num_unique_values\": 48,\n        \"samples\": [\n          \"0.6975\",\n          \"0.7090\",\n          \"0.7040\"\n        ],\n        \"semantic_type\": \"\",\n        \"description\": \"\"\n      }\n    },\n    {\n      \"column\": \"rodada\",\n      \"properties\": {\n        \"dtype\": \"number\",\n        \"std\": 2,\n        \"min\": 1,\n        \"max\": 10,\n        \"num_unique_values\": 10,\n        \"samples\": [\n          9,\n          2,\n          6\n        ],\n        \"semantic_type\": \"\",\n        \"description\": \"\"\n      }\n    }\n  ]\n}"
            }
          },
          "metadata": {},
          "execution_count": 6
        }
      ]
    },
    {
      "cell_type": "code",
      "source": [
        "df_tratado = dataset.astype({'MNN': float, 'brits': float,'GPVAE':float,'USGAN':float,'SAITS':float})"
      ],
      "metadata": {
        "id": "8VyjmRst0xe0"
      },
      "execution_count": null,
      "outputs": []
    },
    {
      "cell_type": "code",
      "source": [
        "#os valores das colunas não possuem simbolos diferentes de numeros\n",
        "#os numeros são semelhantes a valores 0. algo\n",
        "df_tratado.info()"
      ],
      "metadata": {
        "colab": {
          "base_uri": "https://localhost:8080/"
        },
        "id": "slKCWwuK5DA8",
        "outputId": "e3f1e841-6904-4ced-9c1c-866a1771bb8c"
      },
      "execution_count": null,
      "outputs": [
        {
          "output_type": "stream",
          "name": "stdout",
          "text": [
            "<class 'pandas.core.frame.DataFrame'>\n",
            "RangeIndex: 50 entries, 0 to 49\n",
            "Data columns (total 7 columns):\n",
            " #   Column                          Non-Null Count  Dtype  \n",
            "---  ------                          --------------  -----  \n",
            " 0   porcentagem de dados faltantes  50 non-null     int64  \n",
            " 1   SAITS                           50 non-null     float64\n",
            " 2   USGAN                           50 non-null     float64\n",
            " 3   GPVAE                           50 non-null     float64\n",
            " 4   brits                           50 non-null     float64\n",
            " 5   MNN                             50 non-null     float64\n",
            " 6   rodada                          50 non-null     int64  \n",
            "dtypes: float64(5), int64(2)\n",
            "memory usage: 2.9 KB\n"
          ]
        }
      ]
    },
    {
      "cell_type": "markdown",
      "source": [
        "#boxplot USGAN\n"
      ],
      "metadata": {
        "id": "0fXwWIywRPEh"
      }
    },
    {
      "cell_type": "code",
      "source": [
        "import seaborn as sns\n",
        "import matplotlib.pyplot as plt\n",
        "\n",
        "# Adicionando cores para destaque\n",
        "sns.boxplot(x='porcentagem de dados faltantes', y='USGAN', data=df_tratado, color='lightgreen')\n",
        "\n",
        "# Mostrando o gráfico\n",
        "plt.show()\n"
      ],
      "metadata": {
        "colab": {
          "base_uri": "https://localhost:8080/",
          "height": 449
        },
        "id": "NIgfD3KgO6yk",
        "outputId": "a3b3ab73-d259-4f3e-d600-48ab0676c082"
      },
      "execution_count": null,
      "outputs": [
        {
          "output_type": "display_data",
          "data": {
            "text/plain": [
              "<Figure size 640x480 with 1 Axes>"
            ],
            "image/png": "[encoded data removed]"
          },
          "metadata": {}
        }
      ]
    },
    {
      "cell_type": "markdown",
      "source": [
        "#Brits"
      ],
      "metadata": {
        "id": "i3kDYt19gDQG"
      }
    },
    {
      "cell_type": "code",
      "source": [
        "# Adicionando cores para destaque\n",
        "sns.boxplot(x='porcentagem de dados faltantes', y='brits', data=df_tratado, color='aquamarine')"
      ],
      "metadata": {
        "colab": {
          "base_uri": "https://localhost:8080/",
          "height": 466
        },
        "id": "WnqWZH46NfMy",
        "outputId": "162589b0-7379-46dc-fa1b-01dae4bc818b"
      },
      "execution_count": null,
      "outputs": [
        {
          "output_type": "execute_result",
          "data": {
            "text/plain": [
              "<Axes: xlabel='porcentagem de dados faltantes', ylabel='brits'>"
            ]
          },
          "metadata": {},
          "execution_count": 10
        },
        {
          "output_type": "display_data",
          "data": {
            "text/plain": [
              "<Figure size 640x480 with 1 Axes>"
            ],
            "image/png": "[encoded data removed]"
          },
          "metadata": {}
        }
      ]
    },
    {
      "cell_type": "markdown",
      "source": [
        "##saits\n"
      ],
      "metadata": {
        "id": "GieS0Wm8gIWj"
      }
    },
    {
      "cell_type": "code",
      "source": [
        "\n",
        "sns.boxplot(x='porcentagem de dados faltantes', y='SAITS', data=df_tratado,color='skyblue')"
      ],
      "metadata": {
        "colab": {
          "base_uri": "https://localhost:8080/",
          "height": 466
        },
        "id": "x_aZabMGO6r-",
        "outputId": "9e59cf57-686f-489c-8538-fda5a11d6984"
      },
      "execution_count": null,
      "outputs": [
        {
          "output_type": "execute_result",
          "data": {
            "text/plain": [
              "<Axes: xlabel='porcentagem de dados faltantes', ylabel='SAITS'>"
            ]
          },
          "metadata": {},
          "execution_count": 11
        },
        {
          "output_type": "display_data",
          "data": {
            "text/plain": [
              "<Figure size 640x480 with 1 Axes>"
            ],
            "image/png": "[encoded data removed]"
          },
          "metadata": {}
        }
      ]
    },
    {
      "cell_type": "markdown",
      "source": [
        "#BOXPLOT MRNN\n",
        "\n",
        "\n",
        "---\n"
      ],
      "metadata": {
        "id": "xMGwYpIj_S70"
      }
    },
    {
      "cell_type": "code",
      "source": [
        "sns.boxplot(x='porcentagem de dados faltantes', y='MRNN', data=df_tratado)"
      ],
      "metadata": {
        "colab": {
          "base_uri": "https://localhost:8080/",
          "height": 466
        },
        "id": "PDRmDmZoO61e",
        "outputId": "80ca60af-ea28-4c27-cad4-9f931d9b80dd"
      },
      "execution_count": null,
      "outputs": [
        {
          "output_type": "execute_result",
          "data": {
            "text/plain": [
              "<Axes: xlabel='porcentagem de dados faltantes', ylabel='MNN'>"
            ]
          },
          "metadata": {},
          "execution_count": 12
        },
        {
          "output_type": "display_data",
          "data": {
            "text/plain": [
              "<Figure size 640x480 with 1 Axes>"
            ],
            "image/png": "[encoded data removed]"
          },
          "metadata": {}
        }
      ]
    },
    {
      "cell_type": "code",
      "source": [
        "import seaborn as sns\n",
        "import matplotlib.pyplot as plt\n",
        "\n",
        "# Adicionando cores para destaque\n",
        "sns.boxplot(x='porcentagem de dados faltantes', y='GPVAE', data=df_tratado, color='coral')\n"
      ],
      "metadata": {
        "colab": {
          "base_uri": "https://localhost:8080/",
          "height": 466
        },
        "id": "q-ytp5Y-O64e",
        "outputId": "1905da99-0ed8-4bb3-cdce-849db679ef1c"
      },
      "execution_count": null,
      "outputs": [
        {
          "output_type": "execute_result",
          "data": {
            "text/plain": [
              "<Axes: xlabel='porcentagem de dados faltantes', ylabel='GPVAE'>"
            ]
          },
          "metadata": {},
          "execution_count": 13
        },
        {
          "output_type": "display_data",
          "data": {
            "text/plain": [
              "<Figure size 640x480 with 1 Axes>"
            ],
            "image/png": "[encoded data removed]"
          },
          "metadata": {}
        }
      ]
    },
    {
      "cell_type": "code",
      "source": [
        "df_tratado.drop(columns=['rodada'], inplace=True)\n",
        "df_tratado.drop(columns=['porcentagem de dados faltantes'], inplace=True)"
      ],
      "metadata": {
        "id": "aAjtBL0MxZsW"
      },
      "execution_count": null,
      "outputs": []
    },
    {
      "cell_type": "markdown",
      "source": [
        "#mapa de calor - VALORES MEDIOS\n"
      ],
      "metadata": {
        "id": "CSxpfbTae8qN"
      }
    },
    {
      "cell_type": "code",
      "source": [
        "import matplotlib.pyplot as plt\n",
        "import numpy as np\n",
        "\n",
        "# Dados fornecidos\n",
        "dados = np.array([\n",
        "    [0.22988, 0.27101, 0.45210, 0.25409, 0.69950],\n",
        "    [0.24635, 0.28639, 0.46677, 0.27556, 0.70235],\n",
        "    [0.26602, 0.30313, 0.48225, 0.29740, 0.70466],\n",
        "    [0.28899, 0.32007, 0.49263, 0.31780, 0.70866]\n",
        "])\n",
        "\n",
        "# Porcentagens de dados faltantes e modelos\n",
        "porcentagens = [10, 20, 30, 40]\n",
        "modelos = ['SAITS_mean', 'USGAN_mean', 'GPVAE_mean', 'BRITIS_mean', 'MRNN_mean']\n",
        "\n",
        "# Plotagem do mapa de calor\n",
        "plt.imshow(dados, cmap='hot', interpolation='nearest')\n",
        "plt.colorbar(label='Valores Médios')\n",
        "plt.xlabel('Modelos')\n",
        "plt.ylabel('Porcentagem de Dados Faltantes')\n",
        "plt.xticks(np.arange(len(modelos)), modelos, rotation=45)\n",
        "plt.yticks(np.arange(len(porcentagens)), porcentagens)\n",
        "plt.title('Mapa de Calor dos Valores Médios')\n",
        "plt.show()\n"
      ],
      "metadata": {
        "colab": {
          "base_uri": "https://localhost:8080/",
          "height": 487
        },
        "id": "Uzm2Mdkuwv8x",
        "outputId": "de05b09a-7015-44c2-81f9-3f3b78943f9e"
      },
      "execution_count": null,
      "outputs": [
        {
          "output_type": "display_data",
          "data": {
            "text/plain": [
              "<Figure size 640x480 with 2 Axes>"
            ],
            "image/png": "[encoded data removed]"
          },
          "metadata": {}
        }
      ]
    },
    {
      "cell_type": "markdown",
      "source": [
        "#agora vamos o mesmo dataset com outra formatação"
      ],
      "metadata": {
        "id": "Y7zFWN9pAL1C"
      }
    },
    {
      "cell_type": "code",
      "source": [
        "df3=pd.read_csv('datasetstest - idk.csv')"
      ],
      "metadata": {
        "id": "bwpxolIqSAdB"
      },
      "execution_count": null,
      "outputs": []
    },
    {
      "cell_type": "code",
      "source": [
        "df3.info()"
      ],
      "metadata": {
        "colab": {
          "base_uri": "https://localhost:8080/"
        },
        "id": "wsHV5zsKSokQ",
        "outputId": "28955631-79bf-468c-bbe6-5c3bea6ad4ea"
      },
      "execution_count": null,
      "outputs": [
        {
          "output_type": "stream",
          "name": "stdout",
          "text": [
            "<class 'pandas.core.frame.DataFrame'>\n",
            "RangeIndex: 250 entries, 0 to 249\n",
            "Data columns (total 4 columns):\n",
            " #   Column                 Non-Null Count  Dtype \n",
            "---  ------                 --------------  ----- \n",
            " 0   % de dados faltantes   250 non-null    int64 \n",
            " 1   RODADA                 250 non-null    int64 \n",
            " 2   VALUE                  250 non-null    object\n",
            " 3   MODEL                  250 non-null    object\n",
            "dtypes: int64(2), object(2)\n",
            "memory usage: 7.9+ KB\n"
          ]
        }
      ]
    },
    {
      "cell_type": "code",
      "source": [
        "df3['VALUE'] = df3['VALUE'].replace(':', '', regex=True)\n"
      ],
      "metadata": {
        "id": "mjv0-ptCVtCz"
      },
      "execution_count": null,
      "outputs": []
    },
    {
      "cell_type": "code",
      "source": [
        "df_clean3= df3.astype({'VALUE': float})"
      ],
      "metadata": {
        "id": "Z8YHP3K5V5ZK"
      },
      "execution_count": null,
      "outputs": []
    },
    {
      "cell_type": "code",
      "source": [
        "SAITS = []\n",
        "USGAN = []\n",
        "GPVAE = []\n",
        "MNN = []\n",
        "brits = []\n",
        "flores = [\"SAITS\", \"USGAN\", \"GPVAE\",\"MNN\",\"brits\"]\n",
        "\n",
        "for j, i in enumerate(df_clean3.iloc[:, 3]):\n",
        "\n",
        "    if i == flores[0]:\n",
        "      SAITS.append(df_clean3.iloc[j, 2])\n",
        "\n",
        "    if i == flores[1]:\n",
        "      USGAN.append(df_clean3.iloc[j, 2])\n",
        "\n",
        "    if i == flores[2]:\n",
        "      GPVAE.append(df_clean3.iloc[j, 2])\n",
        "\n",
        "    if i == flores[3]:\n",
        "      MNN.append(df_clean3.iloc[j, 2])\n",
        "\n",
        "    if i == flores[4]:\n",
        "      brits.append(df_clean3.iloc[j, 2])\n",
        "\n",
        "dados_models = [SAITS, USGAN, GPVAE, MNN, brits]\n"
      ],
      "metadata": {
        "id": "LTYvehYOXzOf"
      },
      "execution_count": null,
      "outputs": []
    },
    {
      "cell_type": "code",
      "source": [
        "#boxplot with color\n",
        "plt.figure(figsize=(11, 6))\n",
        "bplots = plt.boxplot(dados_models, vert=1, patch_artist= True)\n",
        "\n",
        "# Cor do corpo do boxplot\n",
        "colors = ['lightblue', 'darksalmon', 'lightgreen', 'skyblue', 'indianred']\n",
        "for i, bplot in enumerate(bplots['boxes']):\n",
        "    bplot.set(color='black', linewidth=0.5)\n",
        "    bplot.set(facecolor=colors[i])\n",
        "\n",
        "# Linhas de contorno\n",
        "for whisker in bplots['whiskers']:\n",
        "    whisker.set(color='black', linewidth=0.5)\n",
        "\n",
        "for cap in bplots['caps']:\n",
        "    cap.set(color='black', linewidth=0.5)\n",
        "\n",
        "for median in bplots['medians']:\n",
        "    median.set(color='black', linewidth=0.5)\n",
        "\n",
        "# Adicionando Título ao gráfico\n",
        "#title : boxplot of the models\n",
        "plt.title(\"Boxplot da base de dados modelo\", loc=\"center\", fontsize=18)\n",
        "plt.xlabel(\"Tipos de modelo\")\n",
        "plt.ylabel(\"MSE\")\n",
        "\n",
        "plt.show()"
      ],
      "metadata": {
        "colab": {
          "base_uri": "https://localhost:8080/",
          "height": 569
        },
        "id": "VIFHY6eieoRn",
        "outputId": "75d1853c-061d-43ba-d331-2e49342d834e"
      },
      "execution_count": null,
      "outputs": [
        {
          "output_type": "display_data",
          "data": {
            "text/plain": [
              "<Figure size 1100x600 with 1 Axes>"
            ],
            "image/png": "[encoded data removed]"
          },
          "metadata": {}
        }
      ]
    },
    {
      "cell_type": "code",
      "source": [
        "SAITS = []\n",
        "USGAN = []\n",
        "GPVAE = []\n",
        "MNN = []\n",
        "brits = []\n",
        "flores = [\"SAITS\", \"USGAN\", \"GPVAE\",\"MNN\",\"brits\"]\n",
        "dados_separados_por_valor = []\n",
        "\n",
        "value = [10, 20, 30, 40, 50]\n",
        "\n",
        "for modelo in dados_models:\n",
        "    dados_por_modelo = []\n",
        "    for v in value:\n",
        "        dados_por_modelo.append(modelo[v-10:v])\n",
        "    dados_separados_por_valor.append(dados_por_modelo)\n"
      ],
      "metadata": {
        "id": "NJFs6E4TTtKP"
      },
      "execution_count": null,
      "outputs": []
    },
    {
      "cell_type": "markdown",
      "source": [
        "#variancia ,desvio padrao,media ,amplitude,curtose ,assimetria dos datasets de 10 a 50 % de dados faltantes"
      ],
      "metadata": {
        "id": "4pGwjHkG28V7"
      }
    },
    {
      "cell_type": "code",
      "source": [
        "import pandas as pd"
      ],
      "metadata": {
        "id": "GmxWwH4SfcKv"
      },
      "execution_count": null,
      "outputs": []
    },
    {
      "cell_type": "code",
      "source": [
        "df_10=pd.read_csv('datasetstest - 10_models.csv')"
      ],
      "metadata": {
        "id": "-azGd8B_SqFM"
      },
      "execution_count": null,
      "outputs": []
    },
    {
      "cell_type": "code",
      "source": [
        "df_10['SAITS'] = df_10['SAITS'].replace(':', '', regex=True)\n",
        "df_10['USGAN'] = df_10['USGAN'].replace(':', '', regex=True)\n",
        "df_10['GPVAE'] = df_10['GPVAE'].replace(':', '', regex=True)\n",
        "df_10['BRITIS'] = df_10['BRITIS'].replace(':', '', regex=True)\n",
        "df_10['MRNN'] = df_10['MRNN'].replace(':', '', regex=True)"
      ],
      "metadata": {
        "id": "VohoadEaSrEr"
      },
      "execution_count": null,
      "outputs": []
    },
    {
      "cell_type": "code",
      "source": [
        "df_10 = df_10.astype({'MRNN': float, 'BRITIS': float,'GPVAE':float,'USGAN':float,'SAITS':float})"
      ],
      "metadata": {
        "id": "Fuwp2tJshJi7"
      },
      "execution_count": null,
      "outputs": []
    },
    {
      "cell_type": "code",
      "source": [
        "df_10.std(axis=0, skipna=True, ddof=1, numeric_only=False)"
      ],
      "metadata": {
        "colab": {
          "base_uri": "https://localhost:8080/"
        },
        "id": "6nkqJEGRhOsh",
        "outputId": "8e07eb5a-c350-475d-f58c-740c13495216"
      },
      "execution_count": null,
      "outputs": [
        {
          "output_type": "execute_result",
          "data": {
            "text/plain": [
              "SAITS     0.001232\n",
              "USGAN     0.000820\n",
              "GPVAE     0.004575\n",
              "BRITIS    0.000532\n",
              "MRNN      0.005603\n",
              "dtype: float64"
            ]
          },
          "metadata": {},
          "execution_count": 7
        }
      ]
    },
    {
      "cell_type": "code",
      "source": [
        "df_10.mean()"
      ],
      "metadata": {
        "colab": {
          "base_uri": "https://localhost:8080/"
        },
        "id": "p4ka7G8dhPQr",
        "outputId": "c4192625-4b98-4782-de2a-8c59bf626fb6"
      },
      "execution_count": null,
      "outputs": [
        {
          "output_type": "execute_result",
          "data": {
            "text/plain": [
              "SAITS     0.22988\n",
              "USGAN     0.27101\n",
              "GPVAE     0.45210\n",
              "BRITIS    0.25409\n",
              "MRNN      0.69950\n",
              "dtype: float64"
            ]
          },
          "metadata": {},
          "execution_count": 8
        }
      ]
    },
    {
      "cell_type": "code",
      "source": [
        "df_10.var()"
      ],
      "metadata": {
        "colab": {
          "base_uri": "https://localhost:8080/"
        },
        "id": "HV75HK_jwOH-",
        "outputId": "0881fb8c-e74a-4b8e-a123-d36ee0129356"
      },
      "execution_count": null,
      "outputs": [
        {
          "output_type": "execute_result",
          "data": {
            "text/plain": [
              "SAITS     1.517333e-06\n",
              "USGAN     6.721111e-07\n",
              "GPVAE     2.093333e-05\n",
              "BRITIS    2.832222e-07\n",
              "MRNN      3.139556e-05\n",
              "dtype: float64"
            ]
          },
          "metadata": {},
          "execution_count": 9
        }
      ]
    },
    {
      "cell_type": "code",
      "source": [
        "from scipy.stats import skew, kurtosis\n",
        "# Calcular a amplitude\n",
        "amplitude = df_10.max() - df_10.min()\n",
        "\n",
        "# Calcular a assimetria\n",
        "assimetria = skew(df_10)\n",
        "\n",
        "# Calcular a curtose\n",
        "curtose = kurtosis(df_10)\n",
        "\n",
        "# Exibir os resultados\n",
        "print(\"Amplitude:\")\n",
        "print(amplitude)\n",
        "\n",
        "print(\"\\n Assimetria:\")\n",
        "print(assimetria)\n",
        "print(\"\\n Curtose:\")\n",
        "print(curtose)"
      ],
      "metadata": {
        "colab": {
          "base_uri": "https://localhost:8080/"
        },
        "id": "GzKFMPFVwGmW",
        "outputId": "600cb211-e7cf-4a7f-f2f7-3ef18bcfe14d"
      },
      "execution_count": null,
      "outputs": [
        {
          "output_type": "stream",
          "name": "stdout",
          "text": [
            "Amplitude:\n",
            "SAITS     0.0044\n",
            "USGAN     0.0025\n",
            "GPVAE     0.0113\n",
            "BRITIS    0.0018\n",
            "MRNN      0.0188\n",
            "dtype: float64\n",
            "\n",
            " Assimetria:\n",
            "[-0.42100857 -0.30108219  0.00539284 -0.7432575  -1.29797706]\n",
            "\n",
            " Curtose:\n",
            "[ 0.08706474 -1.08060871 -1.68263114 -0.11498536  0.99330384]\n"
          ]
        }
      ]
    },
    {
      "cell_type": "markdown",
      "source": [
        "#dataset with 20% missiness"
      ],
      "metadata": {
        "id": "Oesp81SXFn04"
      }
    },
    {
      "cell_type": "code",
      "source": [
        "df_20=pd.read_csv('datasetstest - 20_models.csv')"
      ],
      "metadata": {
        "id": "tW2FT3353Mc1"
      },
      "execution_count": null,
      "outputs": []
    },
    {
      "cell_type": "code",
      "source": [
        "df_20.info()"
      ],
      "metadata": {
        "colab": {
          "base_uri": "https://localhost:8080/"
        },
        "id": "T93E5W8Y3b9e",
        "outputId": "3fc27ea8-7a1c-4bf3-92ec-f285021df595"
      },
      "execution_count": null,
      "outputs": [
        {
          "output_type": "stream",
          "name": "stdout",
          "text": [
            "<class 'pandas.core.frame.DataFrame'>\n",
            "RangeIndex: 10 entries, 0 to 9\n",
            "Data columns (total 5 columns):\n",
            " #   Column  Non-Null Count  Dtype \n",
            "---  ------  --------------  ----- \n",
            " 0   SAITS   10 non-null     object\n",
            " 1   USGAN   10 non-null     object\n",
            " 2   GPVAE   10 non-null     object\n",
            " 3   BRITIS  10 non-null     object\n",
            " 4   MRNN    10 non-null     object\n",
            "dtypes: object(5)\n",
            "memory usage: 528.0+ bytes\n"
          ]
        }
      ]
    },
    {
      "cell_type": "code",
      "source": [
        "df_20['SAITS'] = df_20['SAITS'].replace(':', '', regex=True)\n",
        "df_20['USGAN'] = df_20['USGAN'].replace(':', '', regex=True)\n",
        "df_20['GPVAE'] = df_20['GPVAE'].replace(':', '', regex=True)\n",
        "df_20['BRITIS'] = df_20['BRITIS'].replace(':', '', regex=True)\n",
        "df_20['MRNN'] = df_20['MRNN'].replace(':', '', regex=True)"
      ],
      "metadata": {
        "id": "GTEsdzbkfH-S"
      },
      "execution_count": null,
      "outputs": []
    },
    {
      "cell_type": "code",
      "source": [
        "df_20 = df_20.astype({'MRNN': float, 'BRITIS': float,'GPVAE':float,'USGAN':float,'SAITS':float})"
      ],
      "metadata": {
        "id": "6j6kw_myhew2"
      },
      "execution_count": null,
      "outputs": []
    },
    {
      "cell_type": "code",
      "source": [
        "df_20.std(axis=0, skipna=True, ddof=1, numeric_only=False)"
      ],
      "metadata": {
        "colab": {
          "base_uri": "https://localhost:8080/"
        },
        "id": "GA7t_j0k38fu",
        "outputId": "191f95f6-cb42-489d-f7bd-b9ba57d6031a"
      },
      "execution_count": null,
      "outputs": [
        {
          "output_type": "execute_result",
          "data": {
            "text/plain": [
              "SAITS     0.001420\n",
              "USGAN     0.000889\n",
              "GPVAE     0.015305\n",
              "BRITIS    0.000506\n",
              "MRNN      0.005094\n",
              "dtype: float64"
            ]
          },
          "metadata": {},
          "execution_count": 10
        }
      ]
    },
    {
      "cell_type": "code",
      "source": [
        "df_20.mean()"
      ],
      "metadata": {
        "id": "h36BvGRR4X1x",
        "colab": {
          "base_uri": "https://localhost:8080/"
        },
        "outputId": "01958c86-5a36-403f-924c-02f0b31fcd81"
      },
      "execution_count": null,
      "outputs": [
        {
          "output_type": "execute_result",
          "data": {
            "text/plain": [
              "SAITS     0.24635\n",
              "USGAN     0.28639\n",
              "GPVAE     0.46677\n",
              "BRITIS    0.27556\n",
              "MRNN      0.70235\n",
              "dtype: float64"
            ]
          },
          "metadata": {},
          "execution_count": 11
        }
      ]
    },
    {
      "cell_type": "code",
      "source": [
        "df_20.var()"
      ],
      "metadata": {
        "colab": {
          "base_uri": "https://localhost:8080/"
        },
        "id": "7Ssb5WThnS9Q",
        "outputId": "c9293c13-2643-47bf-c69f-392c43d7fbe6"
      },
      "execution_count": null,
      "outputs": [
        {
          "output_type": "execute_result",
          "data": {
            "text/plain": [
              "SAITS     2.016111e-06\n",
              "USGAN     7.898889e-07\n",
              "GPVAE     2.342379e-04\n",
              "BRITIS    2.560000e-07\n",
              "MRNN      2.594500e-05\n",
              "dtype: float64"
            ]
          },
          "metadata": {},
          "execution_count": 12
        }
      ]
    },
    {
      "cell_type": "code",
      "source": [
        "from scipy.stats import skew, kurtosis\n",
        "# Calcular a amplitude\n",
        "amplitude = df_20.max() - df_20.min()\n",
        "\n",
        "# Calcular a assimetria\n",
        "assimetria = skew(df_20)\n",
        "\n",
        "# Calcular a curtose\n",
        "curtose = kurtosis(df_20)\n",
        "\n",
        "# Exibir os resultados\n",
        "print(\"Amplitude:\")\n",
        "print(amplitude)\n",
        "\n",
        "print(\"\\n Assimetria:\")\n",
        "print(assimetria)\n",
        "print(\"\\n Curtose:\")\n",
        "print(curtose)"
      ],
      "metadata": {
        "colab": {
          "base_uri": "https://localhost:8080/"
        },
        "id": "vWmu00PZoh2j",
        "outputId": "3ed6de6c-5f0c-43b7-e5a2-7caefa1f8fc4"
      },
      "execution_count": null,
      "outputs": [
        {
          "output_type": "stream",
          "name": "stdout",
          "text": [
            "Amplitude:\n",
            "SAITS     0.0043\n",
            "USGAN     0.0029\n",
            "GPVAE     0.0514\n",
            "BRITIS    0.0015\n",
            "MRNN      0.0169\n",
            "dtype: float64\n",
            "\n",
            " Assimetria:\n",
            "[-0.40651458  0.30468747  2.03771685  0.07877604 -1.23194628]\n",
            "\n",
            " Curtose:\n",
            "[-1.03644572 -0.78093472  2.98742566 -1.33284505  0.68401994]\n"
          ]
        }
      ]
    },
    {
      "cell_type": "markdown",
      "source": [
        "#30% de valores faltantes"
      ],
      "metadata": {
        "id": "qBVbNAwY5W2z"
      }
    },
    {
      "cell_type": "code",
      "source": [
        "import pandas as pd"
      ],
      "metadata": {
        "id": "2LCEsBXuXQro"
      },
      "execution_count": null,
      "outputs": []
    },
    {
      "cell_type": "code",
      "source": [
        "df_30=pd.read_csv('datasetstest - 30_model.csv')"
      ],
      "metadata": {
        "id": "VMA5iPKW5Tcq"
      },
      "execution_count": null,
      "outputs": []
    },
    {
      "cell_type": "code",
      "source": [
        "df_30['SAITS'] = df_30['SAITS'].replace(':', '', regex=True)\n",
        "df_30['USGAN'] = df_30['USGAN'].replace(':', '', regex=True)\n",
        "df_30['GPVAE'] = df_30['GPVAE'].replace(':', '', regex=True)\n",
        "df_30['BRITIS'] = df_30['BRITIS'].replace(':', '', regex=True)\n",
        "df_30['MRNN'] = df_30['MRNN'].replace(':', '', regex=True)"
      ],
      "metadata": {
        "id": "clOTONoaXjeS"
      },
      "execution_count": null,
      "outputs": []
    },
    {
      "cell_type": "code",
      "source": [
        "df_30 = df_30.astype({'MRNN': float, 'BRITIS': float,'GPVAE':float,'USGAN':float,'SAITS':float})"
      ],
      "metadata": {
        "id": "7U7kVKvnXf5e"
      },
      "execution_count": null,
      "outputs": []
    },
    {
      "cell_type": "code",
      "source": [
        "df_30.std()"
      ],
      "metadata": {
        "colab": {
          "base_uri": "https://localhost:8080/"
        },
        "id": "iJo-Rpw3bnrK",
        "outputId": "554b3ff5-f25e-4045-f1ba-3068fd798b75"
      },
      "execution_count": null,
      "outputs": [
        {
          "output_type": "execute_result",
          "data": {
            "text/plain": [
              "SAITS     0.001503\n",
              "USGAN     0.001099\n",
              "GPVAE     0.013247\n",
              "BRITIS    0.000658\n",
              "MRNN      0.005511\n",
              "dtype: float64"
            ]
          },
          "metadata": {},
          "execution_count": 10
        }
      ]
    },
    {
      "cell_type": "code",
      "source": [
        "df_30.var()"
      ],
      "metadata": {
        "id": "0W6mGm_j5Tak",
        "colab": {
          "base_uri": "https://localhost:8080/"
        },
        "outputId": "37407104-c04a-4f9d-f9a7-6b53d7909274"
      },
      "execution_count": null,
      "outputs": [
        {
          "output_type": "execute_result",
          "data": {
            "text/plain": [
              "SAITS     2.259556e-06\n",
              "USGAN     1.206778e-06\n",
              "GPVAE     1.754761e-04\n",
              "BRITIS    4.333333e-07\n",
              "MRNN      3.036933e-05\n",
              "dtype: float64"
            ]
          },
          "metadata": {},
          "execution_count": 6
        }
      ]
    },
    {
      "cell_type": "code",
      "source": [
        "df_30.mean()"
      ],
      "metadata": {
        "id": "ETYShm895TWD",
        "colab": {
          "base_uri": "https://localhost:8080/"
        },
        "outputId": "f3ac3c7e-9b48-48c6-dbc8-2b655bec757b"
      },
      "execution_count": null,
      "outputs": [
        {
          "output_type": "execute_result",
          "data": {
            "text/plain": [
              "SAITS     0.26602\n",
              "USGAN     0.30313\n",
              "GPVAE     0.48225\n",
              "BRITIS    0.29740\n",
              "MRNN      0.70466\n",
              "dtype: float64"
            ]
          },
          "metadata": {},
          "execution_count": 7
        }
      ]
    },
    {
      "cell_type": "code",
      "source": [
        "from scipy.stats import skew, kurtosis\n",
        "# Calcular a amplitude\n",
        "amplitude = df_30.max() - df_30.min()\n",
        "\n",
        "# Calcular a assimetria\n",
        "assimetria = skew(df_30)\n",
        "\n",
        "# Calcular a curtose\n",
        "curtose = kurtosis(df_30)\n",
        "\n",
        "# Exibir os resultados\n",
        "print(\"Amplitude:\")\n",
        "print(amplitude)\n",
        "\n",
        "print(\"\\n Assimetria:\")\n",
        "print(assimetria)\n",
        "print(\"\\n Curtose:\")\n",
        "print(curtose)"
      ],
      "metadata": {
        "id": "eb9cpNrC5TUU",
        "colab": {
          "base_uri": "https://localhost:8080/"
        },
        "outputId": "8f601d15-414d-439d-db0d-ec3784661690"
      },
      "execution_count": null,
      "outputs": [
        {
          "output_type": "stream",
          "name": "stdout",
          "text": [
            "Amplitude:\n",
            "SAITS     0.0046\n",
            "USGAN     0.0035\n",
            "GPVAE     0.0445\n",
            "BRITIS    0.0021\n",
            "MRNN      0.0163\n",
            "dtype: float64\n",
            "\n",
            " Assimetria:\n",
            "[ 0.04137101  0.39838101  1.68298084  0.45821287 -0.51266393]\n",
            "\n",
            " Curtose:\n",
            "[-0.95559378 -0.66546072  1.94131307 -0.78106509 -0.89579334]\n"
          ]
        }
      ]
    },
    {
      "cell_type": "markdown",
      "source": [
        "#40_missiness dataset"
      ],
      "metadata": {
        "id": "EnkyCnGNdVEp"
      }
    },
    {
      "cell_type": "code",
      "source": [
        "df_40=pd.read_csv('datasetstest - 40_models.csv')"
      ],
      "metadata": {
        "id": "dZeWHHpmeEIY"
      },
      "execution_count": null,
      "outputs": []
    },
    {
      "cell_type": "code",
      "source": [
        "df_40['SAITS'] = df_40['SAITS'].replace(':', '', regex=True)\n",
        "df_40['USGAN'] = df_40['USGAN'].replace(':', '', regex=True)\n",
        "df_40['GPVAE'] = df_40['GPVAE'].replace(':', '', regex=True)\n",
        "df_40['BRITIS'] = df_40['BRITIS'].replace(':', '', regex=True)\n",
        "df_40['MRNN'] = df_40['MRNN'].replace(':', '', regex=True)"
      ],
      "metadata": {
        "id": "fmQ2L5Qs5TLv"
      },
      "execution_count": null,
      "outputs": []
    },
    {
      "cell_type": "code",
      "source": [
        "df_40 = df_40.astype({'MRNN': float, 'BRITIS': float,'GPVAE':float,'USGAN':float,'SAITS':float})"
      ],
      "metadata": {
        "id": "GRJQnfV5dYjn"
      },
      "execution_count": null,
      "outputs": []
    },
    {
      "cell_type": "code",
      "source": [
        "df_40.std()"
      ],
      "metadata": {
        "colab": {
          "base_uri": "https://localhost:8080/"
        },
        "id": "sR1f-sDPeKdN",
        "outputId": "11da3400-9ef5-4658-c97c-2be90dc89621"
      },
      "execution_count": null,
      "outputs": [
        {
          "output_type": "execute_result",
          "data": {
            "text/plain": [
              "SAITS     0.002271\n",
              "USGAN     0.001310\n",
              "GPVAE     0.012792\n",
              "BRITIS    0.000660\n",
              "MRNN      0.005180\n",
              "dtype: float64"
            ]
          },
          "metadata": {},
          "execution_count": 21
        }
      ]
    },
    {
      "cell_type": "code",
      "source": [
        "df_40.mean()"
      ],
      "metadata": {
        "colab": {
          "base_uri": "https://localhost:8080/"
        },
        "id": "e16Q4ZK7eNTK",
        "outputId": "afa8b051-5d8b-412f-c4f8-cead50b64f17"
      },
      "execution_count": null,
      "outputs": [
        {
          "output_type": "execute_result",
          "data": {
            "text/plain": [
              "SAITS     0.28899\n",
              "USGAN     0.32007\n",
              "GPVAE     0.49263\n",
              "BRITIS    0.31780\n",
              "MRNN      0.70866\n",
              "dtype: float64"
            ]
          },
          "metadata": {},
          "execution_count": 22
        }
      ]
    },
    {
      "cell_type": "code",
      "source": [
        "df_40.var()"
      ],
      "metadata": {
        "colab": {
          "base_uri": "https://localhost:8080/"
        },
        "id": "89ZZtUz8eNQH",
        "outputId": "23982181-fb15-403d-f1cd-dd923f59bb06"
      },
      "execution_count": null,
      "outputs": [
        {
          "output_type": "execute_result",
          "data": {
            "text/plain": [
              "SAITS     5.158778e-06\n",
              "USGAN     1.715667e-06\n",
              "GPVAE     1.636379e-04\n",
              "BRITIS    4.355556e-07\n",
              "MRNN      2.682933e-05\n",
              "dtype: float64"
            ]
          },
          "metadata": {},
          "execution_count": 23
        }
      ]
    },
    {
      "cell_type": "code",
      "source": [
        "from scipy.stats import skew, kurtosis\n",
        "# Calcular a amplitude\n",
        "amplitude = df_40.max() - df_40.min()\n",
        "\n",
        "# Calcular a assimetria\n",
        "assimetria = skew(df_40)\n",
        "\n",
        "# Calcular a curtose\n",
        "curtose = kurtosis(df_40)\n",
        "\n",
        "# Exibir os resultados\n",
        "print(\"Amplitude:\")\n",
        "print(amplitude)\n",
        "\n",
        "print(\"\\n Assimetria:\")\n",
        "print(assimetria)\n",
        "print(\"\\n Curtose:\")\n",
        "print(curtose)"
      ],
      "metadata": {
        "colab": {
          "base_uri": "https://localhost:8080/"
        },
        "id": "wUr-oxgxeNMX",
        "outputId": "572cb476-f893-4780-b25a-2910723e2aac"
      },
      "execution_count": null,
      "outputs": [
        {
          "output_type": "stream",
          "name": "stdout",
          "text": [
            "Amplitude:\n",
            "SAITS     0.0084\n",
            "USGAN     0.0045\n",
            "GPVAE     0.0421\n",
            "BRITIS    0.0019\n",
            "MRNN      0.0160\n",
            "dtype: float64\n",
            "\n",
            " Assimetria:\n",
            "[-0.79610385  0.38593093  1.81165972 -0.16379361 -1.18945844]\n",
            "\n",
            " Curtose:\n",
            "[ 0.48383999 -0.42948772  2.09831544 -1.30877759  0.21407609]\n"
          ]
        }
      ]
    },
    {
      "cell_type": "markdown",
      "source": [
        "#50_missiness"
      ],
      "metadata": {
        "id": "DjGEBFmR0WPS"
      }
    },
    {
      "cell_type": "code",
      "source": [
        "import pandas as pd"
      ],
      "metadata": {
        "id": "NWlwmAb0BsX0"
      },
      "execution_count": null,
      "outputs": []
    },
    {
      "cell_type": "code",
      "source": [
        "df_50=pd.read_csv('datasetstest - 50_models.csv')"
      ],
      "metadata": {
        "id": "sdeUXmvUBV4w"
      },
      "execution_count": null,
      "outputs": []
    },
    {
      "cell_type": "code",
      "source": [
        "df_50['SAITS'] = df_50['SAITS'].replace(':', '', regex=True)\n",
        "df_50['USGAN'] = df_50['USGAN'].replace(':', '', regex=True)\n",
        "df_50['GPVAE'] = df_50['GPVAE'].replace(':', '', regex=True)\n",
        "df_50['BRITS'] = df_50['BRITS'].replace(':', '', regex=True)\n",
        "df_50['MRNN'] = df_50['MRNN'].replace(':', '', regex=True)"
      ],
      "metadata": {
        "id": "xf3K5z4zBV04"
      },
      "execution_count": null,
      "outputs": []
    },
    {
      "cell_type": "code",
      "source": [
        "\n",
        "\n",
        "df_50 = df_50.astype({'MRNN': float, 'BRITS': float,'GPVAE':float,'USGAN':float,'SAITS':float})"
      ],
      "metadata": {
        "id": "BFDEBbf7BVy5"
      },
      "execution_count": null,
      "outputs": []
    },
    {
      "cell_type": "code",
      "source": [
        "df_50.std()"
      ],
      "metadata": {
        "colab": {
          "base_uri": "https://localhost:8080/"
        },
        "id": "2TtAYFt3BVs-",
        "outputId": "445c08e3-3e64-4658-e948-b95b1d4fd49d"
      },
      "execution_count": null,
      "outputs": [
        {
          "output_type": "execute_result",
          "data": {
            "text/plain": [
              "SAITS    0.002863\n",
              "USGAN    0.001602\n",
              "GPVAE    0.011812\n",
              "BRITS    0.000800\n",
              "MRNN     0.005245\n",
              "dtype: float64"
            ]
          },
          "metadata": {},
          "execution_count": 13
        }
      ]
    },
    {
      "cell_type": "code",
      "source": [
        "df_50.mean()"
      ],
      "metadata": {
        "colab": {
          "base_uri": "https://localhost:8080/"
        },
        "id": "0a63XpapFQvg",
        "outputId": "50dfa9dc-fbb8-4d1b-da90-51a15afea139"
      },
      "execution_count": null,
      "outputs": [
        {
          "output_type": "execute_result",
          "data": {
            "text/plain": [
              "SAITS    0.31699\n",
              "USGAN    0.34005\n",
              "GPVAE    0.50939\n",
              "BRITS    0.34026\n",
              "MRNN     0.71201\n",
              "dtype: float64"
            ]
          },
          "metadata": {},
          "execution_count": 16
        }
      ]
    },
    {
      "cell_type": "code",
      "source": [
        "df_50.var()"
      ],
      "metadata": {
        "colab": {
          "base_uri": "https://localhost:8080/"
        },
        "id": "WtjIpF4cFQpN",
        "outputId": "af50a5f9-f8be-46ab-e209-f71f81d27a56"
      },
      "execution_count": null,
      "outputs": [
        {
          "output_type": "execute_result",
          "data": {
            "text/plain": [
              "SAITS    8.196556e-06\n",
              "USGAN    2.565000e-06\n",
              "GPVAE    1.395166e-04\n",
              "BRITS    6.404444e-07\n",
              "MRNN     2.750544e-05\n",
              "dtype: float64"
            ]
          },
          "metadata": {},
          "execution_count": 15
        }
      ]
    },
    {
      "cell_type": "code",
      "source": [
        "from scipy.stats import skew, kurtosis\n",
        "# Calcular a amplitude\n",
        "amplitude = df_50.max() - df_50.min()\n",
        "\n",
        "# Calcular a assimetria\n",
        "assimetria = skew(df_50)\n",
        "\n",
        "# Calcular a curtose\n",
        "curtose = kurtosis(df_50)\n",
        "\n",
        "# Exibir os resultados\n",
        "print(\"Amplitude:\")\n",
        "print(amplitude)\n",
        "\n",
        "print(\"\\n Assimetria:\")\n",
        "print(assimetria)\n",
        "print(\"\\n Curtose:\")\n",
        "print(curtose)"
      ],
      "metadata": {
        "colab": {
          "base_uri": "https://localhost:8080/"
        },
        "id": "TyIKNV5mFwMd",
        "outputId": "add50793-79cf-49b9-e220-f539c680a89a"
      },
      "execution_count": null,
      "outputs": [
        {
          "output_type": "stream",
          "name": "stdout",
          "text": [
            "Amplitude:\n",
            "SAITS    0.0105\n",
            "USGAN    0.0058\n",
            "GPVAE    0.0376\n",
            "BRITS    0.0024\n",
            "MRNN     0.0161\n",
            "dtype: float64\n",
            "\n",
            " Assimetria:\n",
            "[-0.2969552   0.05465467  1.68009591  0.0901079  -1.097037  ]\n",
            "\n",
            " Curtose:\n",
            "[ 0.09480998 -0.23185974  1.58710017 -1.23393183 -0.06239349]\n"
          ]
        }
      ]
    },
    {
      "cell_type": "markdown",
      "source": [
        "#referencias e ajudas\n"
      ],
      "metadata": {
        "id": "MyKbVJ9iQS2N"
      }
    },
    {
      "cell_type": "markdown",
      "source": [
        "links utilizados\n",
        "\n",
        "----\n",
        "\n",
        "https://medium.com/20-21/boxplot-com-python-usando-matplotlib-e-seaborn-be42cea47a6c\n",
        "\n",
        "https://pandas.pydata.org/pandas-docs/stable/reference/api/pandas.DataFrame.boxplot.html\n",
        "\n",
        "https://geeksforgeeks.org/box-plot-visualization-with-pandas-and-seaborn/\n",
        "\n",
        "https://colab.research.google.com/drive/14IAY5Oy68a8ZkYp5vrrEG40uOpa0FDXz#scrollTo=-RL6QcKwX-g_\n",
        "\n",
        "https://scikit-learn.org/stable/modules/generated/sklearn.cluster.KMeans.html#sklearn.cluster.KMeans\n",
        "\n",
        "https://www.youtube.com/watch?v=bRIaNjX7IqY\n",
        "\n",
        "https://www.youtube.com/watch?v=t_8BXJGbqKE\n",
        "\n",
        "https://machinelearningmastery.com/clustering-algorithms-with-python/\n",
        "\n",
        "https://www.analyticsvidhya.com/blog/2021/04/k-means-clustering-simplified-in-python/\n",
        "\n",
        "https://www.codemotion.com/magazine/ai-ml/machine-learning/clustering-python-patterns/\n",
        "\n",
        "https://machinelearningmastery.com/clustering-algorithms-with-python/\n",
        "\n",
        "https://realpython.com/k-means-clustering-python/\n",
        "\n",
        "----"
      ],
      "metadata": {
        "id": "DfiB23V3_j9c"
      }
    }
  ]
}