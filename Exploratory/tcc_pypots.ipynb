{
  "nbformat": 4,
  "nbformat_minor": 0,
  "metadata": {
    "colab": {
      "provenance": [],
      "collapsed_sections": [
        "oju8Dj3lFai_",
        "MyKbVJ9iQS2N"
      ],
      "authorship_tag": "ABX9TyMKOgqdH4U9bHCjP5Q0fv2u",
      "include_colab_link": true
    },
    "kernelspec": {
      "name": "python3",
      "display_name": "Python 3"
    },
    "language_info": {
      "name": "python"
    }
  },
  "cells": [
    {
      "cell_type": "markdown",
      "metadata": {
        "id": "view-in-github",
        "colab_type": "text"
      },
      "source": [
        "<a href=\"https://colab.research.google.com/github/metsumesquita/TCC/blob/main/Exploratory/tcc_pypots.ipynb\" target=\"_parent\"><img src=\"https://colab.research.google.com/assets/colab-badge.svg\" alt=\"Open In Colab\"/></a>"
      ]
    },
    {
      "cell_type": "markdown",
      "source": [
        "ALL TASK THAAT NEED TO BE DONE\n",
        "\n",
        "```\n",
        "\n",
        "media\n",
        "desvio padrao\n",
        "mapa de calor\n",
        "bOXPLOT POR MODELO\n",
        "BOX POR PORCENTAGEM\n",
        "\n",
        "\n",
        "```\n"
      ],
      "metadata": {
        "id": "4cZAtGY9Xc8B"
      }
    },
    {
      "cell_type": "markdown",
      "source": [
        "#import and install"
      ],
      "metadata": {
        "id": "doh-IBsgRgKp"
      }
    },
    {
      "cell_type": "code",
      "source": [
        "pip install scikit-learn"
      ],
      "metadata": {
        "colab": {
          "base_uri": "https://localhost:8080/"
        },
        "id": "VhBCc3ed_LcD",
        "outputId": "f19fc335-1e0c-47c5-f3d5-79f3ef18fc3b"
      },
      "execution_count": 2,
      "outputs": [
        {
          "output_type": "stream",
          "name": "stdout",
          "text": [
            "Requirement already satisfied: scikit-learn in /usr/local/lib/python3.10/dist-packages (1.2.2)\n",
            "Requirement already satisfied: numpy>=1.17.3 in /usr/local/lib/python3.10/dist-packages (from scikit-learn) (1.25.2)\n",
            "Requirement already satisfied: scipy>=1.3.2 in /usr/local/lib/python3.10/dist-packages (from scikit-learn) (1.11.4)\n",
            "Requirement already satisfied: joblib>=1.1.1 in /usr/local/lib/python3.10/dist-packages (from scikit-learn) (1.3.2)\n",
            "Requirement already satisfied: threadpoolctl>=2.0.0 in /usr/local/lib/python3.10/dist-packages (from scikit-learn) (3.3.0)\n"
          ]
        }
      ]
    },
    {
      "cell_type": "code",
      "execution_count": 3,
      "metadata": {
        "id": "SWAXZSzDUzuU"
      },
      "outputs": [],
      "source": [
        "import matplotlib.pyplot as plt\n",
        "import sklearn\n",
        "import statsmodels.api as sm\n",
        "import seaborn as sns\n",
        "import numpy as np # Manipulação de arrays e uso de funções matemáticas\n",
        "import pandas as pd # Manipulação de dados em dataframes;\n",
        "import seaborn as sns # Visualização de dados\n",
        "import matplotlib.pyplot as plt # Visualização de dados\n",
        "from sklearn.model_selection import train_test_split # Dividir conjunto de dados em treino e teste\n",
        "from sklearn.preprocessing import MinMaxScaler # Normalização\n",
        "from sklearn.neural_network import MLPClassifier # MLP\n",
        "# from tensorflow.keras.utils import to_categorical # Modificação do vetor de rótulos para dados categóricos\n",
        "from sklearn.cluster import KMeans # KMEans"
      ]
    },
    {
      "cell_type": "markdown",
      "source": [
        "violinplot\n",
        "---\n",
        "[violine analise](https://acervolima.com/trama-de-violino-para-analise-de-dados/)\n",
        "---"
      ],
      "metadata": {
        "id": "iNBPh-cWPOQh"
      }
    },
    {
      "cell_type": "markdown",
      "source": [
        "#boxplot - o que voce precisa para concluir\n",
        "\n",
        "  ---\n",
        "[como interpretar]( https://blog.proffernandamaciel.com.br/como-ler-um-boxplot/)\n",
        "\n",
        "[interpretação+codigo](https://lucasmbribeiro.medium.com/boxplot-1c8d2e0cb158)\n",
        "\n",
        "[encontrar e remover outliers](https://towardsdatascience.com/ways-to-detect-and-remove-the-outliers-404d16608dba)\n",
        "\n",
        "[outlier dection ](https://medium.com/@agarwal.vishal819/outlier-detection-with-boxplots-1b6757fafa21#id_token=eyJhbGciOiJSUzI1NiIsImtpZCI6IjZmOTc3N2E2ODU5MDc3OThlZjc5NDA2MmMwMGI2NWQ2NmMyNDBiMWIiLCJ0eXAiOiJKV1QifQ.eyJpc3MiOiJodHRwczovL2FjY291bnRzLmdvb2dsZS5jb20iLCJhenAiOiIyMTYyOTYwMzU4MzQtazFrNnFlMDYwczJ0cDJhMmphbTRsamRjbXMwMHN0dGcuYXBwcy5nb29nbGV1c2VyY29udGVudC5jb20iLCJhdWQiOiIyMTYyOTYwMzU4MzQtazFrNnFlMDYwczJ0cDJhMmphbTRsamRjbXMwMHN0dGcuYXBwcy5nb29nbGV1c2VyY29udGVudC5jb20iLCJzdWIiOiIxMTc0NTQ0ODc1Mjk1NTkwMjQxMzQiLCJlbWFpbCI6Inl1dWtvc2FuOThAZ21haWwuY29tIiwiZW1haWxfdmVyaWZpZWQiOnRydWUsIm5iZiI6MTcwOTMxNTY0OCwibmFtZSI6IlRoYWlzIE1lc3F1aXRhIiwicGljdHVyZSI6Imh0dHBzOi8vbGgzLmdvb2dsZXVzZXJjb250ZW50LmNvbS9hL0FDZzhvY0tRa0F4ZGpBNTVlNklDcC1XaHJpWlRFNVB3bHNDbUVSVTVSVG81VHFHdFVGVF89czk2LWMiLCJnaXZlbl9uYW1lIjoiVGhhaXMiLCJmYW1pbHlfbmFtZSI6Ik1lc3F1aXRhIiwibG9jYWxlIjoicHQtQlIiLCJpYXQiOjE3MDkzMTU5NDgsImV4cCI6MTcwOTMxOTU0OCwianRpIjoiYzIyM2Q1NWFiNDU2OTFjZjViMTNlMTBlNGM1ODg5ZjFlN2JjOTgyYiJ9.L6xL6pgxTWmoU8ijpJeBc4c69Q9418Lc3AElsaqf3WYpbsuL8p-yI1L3tLcC3Z4t5E02q0L1YhUIo24B1dulp5RqS3j6B-L7gCOlkokM1NQH2bFEh2-NBWsU12k4WWPh0cUzyDSRf6ZuULT6KUet2MVxf4qXqyhUeLDB0O1HLAfubQfHZ6OGDH9Ynq4Up4IF2rUQpX9DgJvaCxCQdsYLFyrletDGbbrTssu6iJOd-16VBlHXJpx76ZDG2qWEEBNniGMifYJ9t2oNaNwUgr8E8ClF8ZnLkg8D6LM7n3jba6oBPxUTtjRyn8wYjaMaLAJp3JfRJ61Iwaw9hwdzQ8fyuQ)\n",
        "\n",
        "[tratamento do outlier](https://medium.com/analytics-vidhya/outlier-treatment-9bbe87384d02)\n",
        "\n",
        "[boxplot entendendo- EN](https://medium.com/swlh/understanding-box-and-whisker-plot-275e9163eac0)\n",
        "\n",
        "[boxplot codigo usando matplotlib](https://medium.com/@daniele.santiago/boxplot-como-interpretar-e-plotar-em-python-d80f929eae3b#:~:text=O%20boxplot%20mostra%20a%20distribui%C3%A7%C3%A3o,muito%20bem%20compreendido%20e%20utilizado.)\n",
        "\n",
        "[explicação muito bom com exemplos](https://medium.com/@ingoreichertjr/boxplot-e-histograma-como-interpretar-e044b2bb2e2d)\n",
        "\n",
        "[sns and matplotlib](https://medium.com/20-21/boxplot-com-python-usando-matplotlib-e-seaborn-be42cea47a6c)\n",
        "\n",
        "[video de explicaçãp sobre boxplot e a matematica dele](https://youtu.be/Yp819pOUptc)\n",
        "\n",
        "  ---\n",
        "Limite inferior: Menor valor observado maior ou igual a Q1 – 1,5IQ\n",
        "\n",
        "Limite superior: Maior valor observado menor ou igual a Q3 + 1,5IQ\n",
        "\n",
        "Mediana: Valor central de um conjunto numérico\n",
        "\n",
        "Todos os valores que ultrapassam os limites, são outliers.\n",
        "\n",
        "IQR : Q3-Q1\n",
        "\n",
        "  Quanto maior a caixa, mais dispersos os dados. Quanto menor, menos dispersos os dados."
      ],
      "metadata": {
        "id": "-QkbusCfNdbf"
      }
    },
    {
      "cell_type": "markdown",
      "source": [
        "# [tabela 2 - planilha data ](https://docs.google.com/spreadsheets/d/1D1A_YmVVpCafciGFXHH-hwgkKfJk1MFYZIUKT092tSI/edit#gid=1644549931)\n",
        "\n",
        "```\n",
        "porcentagem de dados faltantes,rodada,SAITS,USGAN,GPVAE,brits,MNN\n",
        "\n",
        "```\n"
      ],
      "metadata": {
        "id": "saFjksOqHC19"
      }
    },
    {
      "cell_type": "code",
      "source": [
        "dataset=pd.read_csv('datasetstest - organized.csv')\n"
      ],
      "metadata": {
        "id": "dZSJBbvKZ44d"
      },
      "execution_count": 5,
      "outputs": []
    },
    {
      "cell_type": "code",
      "source": [
        "dataset.info()"
      ],
      "metadata": {
        "colab": {
          "base_uri": "https://localhost:8080/"
        },
        "id": "IJ590v8Kc3Lf",
        "outputId": "51f96f96-12b5-49b6-86e9-63e0a7f436ec"
      },
      "execution_count": 6,
      "outputs": [
        {
          "output_type": "stream",
          "name": "stdout",
          "text": [
            "<class 'pandas.core.frame.DataFrame'>\n",
            "RangeIndex: 50 entries, 0 to 49\n",
            "Data columns (total 7 columns):\n",
            " #   Column                          Non-Null Count  Dtype \n",
            "---  ------                          --------------  ----- \n",
            " 0   porcentagem de dados faltantes  50 non-null     int64 \n",
            " 1   SAITS                           50 non-null     object\n",
            " 2   USGAN                           50 non-null     object\n",
            " 3   GPVAE                           50 non-null     object\n",
            " 4   brits                           50 non-null     object\n",
            " 5   MNN                             50 non-null     object\n",
            " 6   rodada                          50 non-null     int64 \n",
            "dtypes: int64(2), object(5)\n",
            "memory usage: 2.9+ KB\n"
          ]
        }
      ]
    },
    {
      "cell_type": "markdown",
      "source": [
        "3informações e tratamentos feitos\n",
        "---\n",
        "\n",
        "Os testes foram rodados 10 vezes\n",
        "\n",
        "o dataframe vai de 10% ate 50 % de dados faltantes artificiais\n",
        "\n",
        "retirada do caractere :\n",
        "tranformando objetos em numeros\n",
        "\n",
        "---"
      ],
      "metadata": {
        "id": "wES1a1w9BJJy"
      }
    },
    {
      "cell_type": "code",
      "source": [
        "dataset['SAITS'] = dataset['SAITS'].replace(':', '', regex=True)\n",
        "dataset['USGAN'] = dataset['USGAN'].replace(':', '', regex=True)\n",
        "dataset['GPVAE'] = dataset['GPVAE'].replace(':', '', regex=True)\n",
        "dataset['brits'] = dataset['brits'].replace(':', '', regex=True)\n",
        "dataset['MNN'] = dataset['MNN'].replace(':', '', regex=True)"
      ],
      "metadata": {
        "id": "H9hrNBXzjgAF"
      },
      "execution_count": 7,
      "outputs": []
    },
    {
      "cell_type": "code",
      "source": [
        "dataset.head()"
      ],
      "metadata": {
        "colab": {
          "base_uri": "https://localhost:8080/",
          "height": 206
        },
        "id": "rDz8U0dF0KLR",
        "outputId": "014763cc-de1e-4790-c7a5-01e21cb8d38c"
      },
      "execution_count": 8,
      "outputs": [
        {
          "output_type": "execute_result",
          "data": {
            "text/plain": [
              "   porcentagem de dados faltantes   SAITS   USGAN   GPVAE   brits     MNN  \\\n",
              "0                              10  0.2274  0.2718  0.4561  0.2541  0.6994   \n",
              "1                              10  0.2318  0.2696  0.4493  0.2542  0.7026   \n",
              "2                              10  0.2287  0.2712  0.4484  0.2548  0.6950   \n",
              "3                              10  0.2313  0.2705  0.4575  0.2539  0.7014   \n",
              "4                              10  0.2305  0.2721  0.4575  0.2546  0.6864   \n",
              "\n",
              "   rodada  \n",
              "0       1  \n",
              "1       2  \n",
              "2       3  \n",
              "3       4  \n",
              "4       5  "
            ],
            "text/html": [
              "\n",
              "  <div id=\"df-862a1631-d505-41d6-bd40-9c1c26afc398\" class=\"colab-df-container\">\n",
              "    <div>\n",
              "<style scoped>\n",
              "    .dataframe tbody tr th:only-of-type {\n",
              "        vertical-align: middle;\n",
              "    }\n",
              "\n",
              "    .dataframe tbody tr th {\n",
              "        vertical-align: top;\n",
              "    }\n",
              "\n",
              "    .dataframe thead th {\n",
              "        text-align: right;\n",
              "    }\n",
              "</style>\n",
              "<table border=\"1\" class=\"dataframe\">\n",
              "  <thead>\n",
              "    <tr style=\"text-align: right;\">\n",
              "      <th></th>\n",
              "      <th>porcentagem de dados faltantes</th>\n",
              "      <th>SAITS</th>\n",
              "      <th>USGAN</th>\n",
              "      <th>GPVAE</th>\n",
              "      <th>brits</th>\n",
              "      <th>MNN</th>\n",
              "      <th>rodada</th>\n",
              "    </tr>\n",
              "  </thead>\n",
              "  <tbody>\n",
              "    <tr>\n",
              "      <th>0</th>\n",
              "      <td>10</td>\n",
              "      <td>0.2274</td>\n",
              "      <td>0.2718</td>\n",
              "      <td>0.4561</td>\n",
              "      <td>0.2541</td>\n",
              "      <td>0.6994</td>\n",
              "      <td>1</td>\n",
              "    </tr>\n",
              "    <tr>\n",
              "      <th>1</th>\n",
              "      <td>10</td>\n",
              "      <td>0.2318</td>\n",
              "      <td>0.2696</td>\n",
              "      <td>0.4493</td>\n",
              "      <td>0.2542</td>\n",
              "      <td>0.7026</td>\n",
              "      <td>2</td>\n",
              "    </tr>\n",
              "    <tr>\n",
              "      <th>2</th>\n",
              "      <td>10</td>\n",
              "      <td>0.2287</td>\n",
              "      <td>0.2712</td>\n",
              "      <td>0.4484</td>\n",
              "      <td>0.2548</td>\n",
              "      <td>0.6950</td>\n",
              "      <td>3</td>\n",
              "    </tr>\n",
              "    <tr>\n",
              "      <th>3</th>\n",
              "      <td>10</td>\n",
              "      <td>0.2313</td>\n",
              "      <td>0.2705</td>\n",
              "      <td>0.4575</td>\n",
              "      <td>0.2539</td>\n",
              "      <td>0.7014</td>\n",
              "      <td>4</td>\n",
              "    </tr>\n",
              "    <tr>\n",
              "      <th>4</th>\n",
              "      <td>10</td>\n",
              "      <td>0.2305</td>\n",
              "      <td>0.2721</td>\n",
              "      <td>0.4575</td>\n",
              "      <td>0.2546</td>\n",
              "      <td>0.6864</td>\n",
              "      <td>5</td>\n",
              "    </tr>\n",
              "  </tbody>\n",
              "</table>\n",
              "</div>\n",
              "    <div class=\"colab-df-buttons\">\n",
              "\n",
              "  <div class=\"colab-df-container\">\n",
              "    <button class=\"colab-df-convert\" onclick=\"convertToInteractive('df-862a1631-d505-41d6-bd40-9c1c26afc398')\"\n",
              "            title=\"Convert this dataframe to an interactive table.\"\n",
              "            style=\"display:none;\">\n",
              "\n",
              "  <svg xmlns=\"http://www.w3.org/2000/svg\" height=\"24px\" viewBox=\"0 -960 960 960\">\n",
              "    <path d=\"M120-120v-720h720v720H120Zm60-500h600v-160H180v160Zm220 220h160v-160H400v160Zm0 220h160v-160H400v160ZM180-400h160v-160H180v160Zm440 0h160v-160H620v160ZM180-180h160v-160H180v160Zm440 0h160v-160H620v160Z\"/>\n",
              "  </svg>\n",
              "    </button>\n",
              "\n",
              "  <style>\n",
              "    .colab-df-container {\n",
              "      display:flex;\n",
              "      gap: 12px;\n",
              "    }\n",
              "\n",
              "    .colab-df-convert {\n",
              "      background-color: #E8F0FE;\n",
              "      border: none;\n",
              "      border-radius: 50%;\n",
              "      cursor: pointer;\n",
              "      display: none;\n",
              "      fill: #1967D2;\n",
              "      height: 32px;\n",
              "      padding: 0 0 0 0;\n",
              "      width: 32px;\n",
              "    }\n",
              "\n",
              "    .colab-df-convert:hover {\n",
              "      background-color: #E2EBFA;\n",
              "      box-shadow: 0px 1px 2px rgba(60, 64, 67, 0.3), 0px 1px 3px 1px rgba(60, 64, 67, 0.15);\n",
              "      fill: #174EA6;\n",
              "    }\n",
              "\n",
              "    .colab-df-buttons div {\n",
              "      margin-bottom: 4px;\n",
              "    }\n",
              "\n",
              "    [theme=dark] .colab-df-convert {\n",
              "      background-color: #3B4455;\n",
              "      fill: #D2E3FC;\n",
              "    }\n",
              "\n",
              "    [theme=dark] .colab-df-convert:hover {\n",
              "      background-color: #434B5C;\n",
              "      box-shadow: 0px 1px 3px 1px rgba(0, 0, 0, 0.15);\n",
              "      filter: drop-shadow(0px 1px 2px rgba(0, 0, 0, 0.3));\n",
              "      fill: #FFFFFF;\n",
              "    }\n",
              "  </style>\n",
              "\n",
              "    <script>\n",
              "      const buttonEl =\n",
              "        document.querySelector('#df-862a1631-d505-41d6-bd40-9c1c26afc398 button.colab-df-convert');\n",
              "      buttonEl.style.display =\n",
              "        google.colab.kernel.accessAllowed ? 'block' : 'none';\n",
              "\n",
              "      async function convertToInteractive(key) {\n",
              "        const element = document.querySelector('#df-862a1631-d505-41d6-bd40-9c1c26afc398');\n",
              "        const dataTable =\n",
              "          await google.colab.kernel.invokeFunction('convertToInteractive',\n",
              "                                                    [key], {});\n",
              "        if (!dataTable) return;\n",
              "\n",
              "        const docLinkHtml = 'Like what you see? Visit the ' +\n",
              "          '<a target=\"_blank\" href=https://colab.research.google.com/notebooks/data_table.ipynb>data table notebook</a>'\n",
              "          + ' to learn more about interactive tables.';\n",
              "        element.innerHTML = '';\n",
              "        dataTable['output_type'] = 'display_data';\n",
              "        await google.colab.output.renderOutput(dataTable, element);\n",
              "        const docLink = document.createElement('div');\n",
              "        docLink.innerHTML = docLinkHtml;\n",
              "        element.appendChild(docLink);\n",
              "      }\n",
              "    </script>\n",
              "  </div>\n",
              "\n",
              "\n",
              "<div id=\"df-33affc77-b8ce-44d6-91b1-c36ba8db2547\">\n",
              "  <button class=\"colab-df-quickchart\" onclick=\"quickchart('df-33affc77-b8ce-44d6-91b1-c36ba8db2547')\"\n",
              "            title=\"Suggest charts\"\n",
              "            style=\"display:none;\">\n",
              "\n",
              "<svg xmlns=\"http://www.w3.org/2000/svg\" height=\"24px\"viewBox=\"0 0 24 24\"\n",
              "     width=\"24px\">\n",
              "    <g>\n",
              "        <path d=\"M19 3H5c-1.1 0-2 .9-2 2v14c0 1.1.9 2 2 2h14c1.1 0 2-.9 2-2V5c0-1.1-.9-2-2-2zM9 17H7v-7h2v7zm4 0h-2V7h2v10zm4 0h-2v-4h2v4z\"/>\n",
              "    </g>\n",
              "</svg>\n",
              "  </button>\n",
              "\n",
              "<style>\n",
              "  .colab-df-quickchart {\n",
              "      --bg-color: #E8F0FE;\n",
              "      --fill-color: #1967D2;\n",
              "      --hover-bg-color: #E2EBFA;\n",
              "      --hover-fill-color: #174EA6;\n",
              "      --disabled-fill-color: #AAA;\n",
              "      --disabled-bg-color: #DDD;\n",
              "  }\n",
              "\n",
              "  [theme=dark] .colab-df-quickchart {\n",
              "      --bg-color: #3B4455;\n",
              "      --fill-color: #D2E3FC;\n",
              "      --hover-bg-color: #434B5C;\n",
              "      --hover-fill-color: #FFFFFF;\n",
              "      --disabled-bg-color: #3B4455;\n",
              "      --disabled-fill-color: #666;\n",
              "  }\n",
              "\n",
              "  .colab-df-quickchart {\n",
              "    background-color: var(--bg-color);\n",
              "    border: none;\n",
              "    border-radius: 50%;\n",
              "    cursor: pointer;\n",
              "    display: none;\n",
              "    fill: var(--fill-color);\n",
              "    height: 32px;\n",
              "    padding: 0;\n",
              "    width: 32px;\n",
              "  }\n",
              "\n",
              "  .colab-df-quickchart:hover {\n",
              "    background-color: var(--hover-bg-color);\n",
              "    box-shadow: 0 1px 2px rgba(60, 64, 67, 0.3), 0 1px 3px 1px rgba(60, 64, 67, 0.15);\n",
              "    fill: var(--button-hover-fill-color);\n",
              "  }\n",
              "\n",
              "  .colab-df-quickchart-complete:disabled,\n",
              "  .colab-df-quickchart-complete:disabled:hover {\n",
              "    background-color: var(--disabled-bg-color);\n",
              "    fill: var(--disabled-fill-color);\n",
              "    box-shadow: none;\n",
              "  }\n",
              "\n",
              "  .colab-df-spinner {\n",
              "    border: 2px solid var(--fill-color);\n",
              "    border-color: transparent;\n",
              "    border-bottom-color: var(--fill-color);\n",
              "    animation:\n",
              "      spin 1s steps(1) infinite;\n",
              "  }\n",
              "\n",
              "  @keyframes spin {\n",
              "    0% {\n",
              "      border-color: transparent;\n",
              "      border-bottom-color: var(--fill-color);\n",
              "      border-left-color: var(--fill-color);\n",
              "    }\n",
              "    20% {\n",
              "      border-color: transparent;\n",
              "      border-left-color: var(--fill-color);\n",
              "      border-top-color: var(--fill-color);\n",
              "    }\n",
              "    30% {\n",
              "      border-color: transparent;\n",
              "      border-left-color: var(--fill-color);\n",
              "      border-top-color: var(--fill-color);\n",
              "      border-right-color: var(--fill-color);\n",
              "    }\n",
              "    40% {\n",
              "      border-color: transparent;\n",
              "      border-right-color: var(--fill-color);\n",
              "      border-top-color: var(--fill-color);\n",
              "    }\n",
              "    60% {\n",
              "      border-color: transparent;\n",
              "      border-right-color: var(--fill-color);\n",
              "    }\n",
              "    80% {\n",
              "      border-color: transparent;\n",
              "      border-right-color: var(--fill-color);\n",
              "      border-bottom-color: var(--fill-color);\n",
              "    }\n",
              "    90% {\n",
              "      border-color: transparent;\n",
              "      border-bottom-color: var(--fill-color);\n",
              "    }\n",
              "  }\n",
              "</style>\n",
              "\n",
              "  <script>\n",
              "    async function quickchart(key) {\n",
              "      const quickchartButtonEl =\n",
              "        document.querySelector('#' + key + ' button');\n",
              "      quickchartButtonEl.disabled = true;  // To prevent multiple clicks.\n",
              "      quickchartButtonEl.classList.add('colab-df-spinner');\n",
              "      try {\n",
              "        const charts = await google.colab.kernel.invokeFunction(\n",
              "            'suggestCharts', [key], {});\n",
              "      } catch (error) {\n",
              "        console.error('Error during call to suggestCharts:', error);\n",
              "      }\n",
              "      quickchartButtonEl.classList.remove('colab-df-spinner');\n",
              "      quickchartButtonEl.classList.add('colab-df-quickchart-complete');\n",
              "    }\n",
              "    (() => {\n",
              "      let quickchartButtonEl =\n",
              "        document.querySelector('#df-33affc77-b8ce-44d6-91b1-c36ba8db2547 button');\n",
              "      quickchartButtonEl.style.display =\n",
              "        google.colab.kernel.accessAllowed ? 'block' : 'none';\n",
              "    })();\n",
              "  </script>\n",
              "</div>\n",
              "\n",
              "    </div>\n",
              "  </div>\n"
            ],
            "application/vnd.google.colaboratory.intrinsic+json": {
              "type": "dataframe",
              "variable_name": "dataset",
              "summary": "{\n  \"name\": \"dataset\",\n  \"rows\": 50,\n  \"fields\": [\n    {\n      \"column\": \"porcentagem de dados faltantes\",\n      \"properties\": {\n        \"dtype\": \"number\",\n        \"std\": 14,\n        \"min\": 10,\n        \"max\": 50,\n        \"num_unique_values\": 5,\n        \"samples\": [\n          20,\n          50,\n          30\n        ],\n        \"semantic_type\": \"\",\n        \"description\": \"\"\n      }\n    },\n    {\n      \"column\": \"SAITS\",\n      \"properties\": {\n        \"dtype\": \"string\",\n        \"num_unique_values\": 45,\n        \"samples\": [\n          \"0.3178\",\n          \"0.2659\",\n          \"0.2842\"\n        ],\n        \"semantic_type\": \"\",\n        \"description\": \"\"\n      }\n    },\n    {\n      \"column\": \"USGAN\",\n      \"properties\": {\n        \"dtype\": \"string\",\n        \"num_unique_values\": 45,\n        \"samples\": [\n          \"0.3372\",\n          \"0.3034\",\n          \"0.3024\"\n        ],\n        \"semantic_type\": \"\",\n        \"description\": \"\"\n      }\n    },\n    {\n      \"column\": \"GPVAE\",\n      \"properties\": {\n        \"dtype\": \"string\",\n        \"num_unique_values\": 44,\n        \"samples\": [\n          \"0.5076\",\n          \"0.4725\",\n          \"0.5248\"\n        ],\n        \"semantic_type\": \"\",\n        \"description\": \"\"\n      }\n    },\n    {\n      \"column\": \"brits\",\n      \"properties\": {\n        \"dtype\": \"string\",\n        \"num_unique_values\": 45,\n        \"samples\": [\n          \"0.3412\",\n          \"0.3175\",\n          \"0.3172\"\n        ],\n        \"semantic_type\": \"\",\n        \"description\": \"\"\n      }\n    },\n    {\n      \"column\": \"MNN\",\n      \"properties\": {\n        \"dtype\": \"string\",\n        \"num_unique_values\": 48,\n        \"samples\": [\n          \"0.6975\",\n          \"0.7090\",\n          \"0.7040\"\n        ],\n        \"semantic_type\": \"\",\n        \"description\": \"\"\n      }\n    },\n    {\n      \"column\": \"rodada\",\n      \"properties\": {\n        \"dtype\": \"number\",\n        \"std\": 2,\n        \"min\": 1,\n        \"max\": 10,\n        \"num_unique_values\": 10,\n        \"samples\": [\n          9,\n          2,\n          6\n        ],\n        \"semantic_type\": \"\",\n        \"description\": \"\"\n      }\n    }\n  ]\n}"
            }
          },
          "metadata": {},
          "execution_count": 8
        }
      ]
    },
    {
      "cell_type": "code",
      "source": [
        "df_tratado = dataset.astype({'MNN': float, 'brits': float,'GPVAE':float,'USGAN':float,'SAITS':float})"
      ],
      "metadata": {
        "id": "8VyjmRst0xe0"
      },
      "execution_count": 11,
      "outputs": []
    },
    {
      "cell_type": "code",
      "source": [
        "#os valores das colunas não possuem simbolos diferentes de numeros\n",
        "#os numeros são semelhantes a valores 0. algo\n",
        "df_tratado.info()"
      ],
      "metadata": {
        "colab": {
          "base_uri": "https://localhost:8080/"
        },
        "id": "slKCWwuK5DA8",
        "outputId": "752fa0ad-3296-4ff2-cd83-c7812bfddfb2"
      },
      "execution_count": 12,
      "outputs": [
        {
          "output_type": "stream",
          "name": "stdout",
          "text": [
            "<class 'pandas.core.frame.DataFrame'>\n",
            "RangeIndex: 50 entries, 0 to 49\n",
            "Data columns (total 7 columns):\n",
            " #   Column                          Non-Null Count  Dtype  \n",
            "---  ------                          --------------  -----  \n",
            " 0   porcentagem de dados faltantes  50 non-null     int64  \n",
            " 1   SAITS                           50 non-null     float64\n",
            " 2   USGAN                           50 non-null     float64\n",
            " 3   GPVAE                           50 non-null     float64\n",
            " 4   brits                           50 non-null     float64\n",
            " 5   MNN                             50 non-null     float64\n",
            " 6   rodada                          50 non-null     int64  \n",
            "dtypes: float64(5), int64(2)\n",
            "memory usage: 2.9 KB\n"
          ]
        }
      ]
    },
    {
      "cell_type": "markdown",
      "source": [
        "##boxplot - x = porcetagem de dados faltantes e y = modelos"
      ],
      "metadata": {
        "id": "0fXwWIywRPEh"
      }
    },
    {
      "cell_type": "code",
      "source": [
        "import seaborn as sns\n",
        "import matplotlib.pyplot as plt\n",
        "\n",
        "# Adicionando cores para destaque\n",
        "sns.boxplot(x='porcentagem de dados faltantes', y='USGAN', data=df_tratado, color='lightgreen')\n",
        "\n",
        "# Mostrando o gráfico\n",
        "plt.show()\n"
      ],
      "metadata": {
        "colab": {
          "base_uri": "https://localhost:8080/",
          "height": 449
        },
        "id": "NIgfD3KgO6yk",
        "outputId": "68220106-4648-4589-f00a-6d6bfc2a6667"
      },
      "execution_count": 18,
      "outputs": [
        {
          "output_type": "display_data",
          "data": {
            "text/plain": [
              "<Figure size 640x480 with 1 Axes>"
            ],
            "image/png": "[encoded data removed]"
          },
          "metadata": {}
        }
      ]
    },
    {
      "cell_type": "code",
      "source": [
        "#aqui temos o modelo brits\n",
        "\n",
        "# Adicionando cores para destaque\n",
        "sns.boxplot(x='porcentagem de dados faltantes', y='brits', data=df_tratado, color='aquamarine')"
      ],
      "metadata": {
        "colab": {
          "base_uri": "https://localhost:8080/",
          "height": 466
        },
        "id": "WnqWZH46NfMy",
        "outputId": "f21e57ae-d69a-47f0-e5c4-1c2c5ce0edac"
      },
      "execution_count": 27,
      "outputs": [
        {
          "output_type": "execute_result",
          "data": {
            "text/plain": [
              "<Axes: xlabel='porcentagem de dados faltantes', ylabel='brits'>"
            ]
          },
          "metadata": {},
          "execution_count": 27
        },
        {
          "output_type": "display_data",
          "data": {
            "text/plain": [
              "<Figure size 640x480 with 1 Axes>"
            ],
            "image/png": "[encoded data removed]"
          },
          "metadata": {}
        }
      ]
    },
    {
      "cell_type": "code",
      "source": [
        "#saits\n",
        "\n",
        "sns.boxplot(x='porcentagem de dados faltantes', y='SAITS', data=df_tratado,color='skyblue')"
      ],
      "metadata": {
        "colab": {
          "base_uri": "https://localhost:8080/",
          "height": 466
        },
        "id": "x_aZabMGO6r-",
        "outputId": "35434b39-ddeb-427b-cc7c-57bf611bdf7a"
      },
      "execution_count": 30,
      "outputs": [
        {
          "output_type": "execute_result",
          "data": {
            "text/plain": [
              "<Axes: xlabel='porcentagem de dados faltantes', ylabel='SAITS'>"
            ]
          },
          "metadata": {},
          "execution_count": 30
        },
        {
          "output_type": "display_data",
          "data": {
            "text/plain": [
              "<Figure size 640x480 with 1 Axes>"
            ],
            "image/png": "[encoded data removed]"
          },
          "metadata": {}
        }
      ]
    },
    {
      "cell_type": "code",
      "source": [
        "sns.boxplot(x='porcentagem de dados faltantes', y='MNN', data=df_tratado)"
      ],
      "metadata": {
        "colab": {
          "base_uri": "https://localhost:8080/",
          "height": 466
        },
        "id": "PDRmDmZoO61e",
        "outputId": "d6e1100b-4152-4204-ad5e-7edb48c876e9"
      },
      "execution_count": 24,
      "outputs": [
        {
          "output_type": "execute_result",
          "data": {
            "text/plain": [
              "<Axes: xlabel='porcentagem de dados faltantes', ylabel='MNN'>"
            ]
          },
          "metadata": {},
          "execution_count": 24
        },
        {
          "output_type": "display_data",
          "data": {
            "text/plain": [
              "<Figure size 640x480 with 1 Axes>"
            ],
            "image/png": "[encoded data removed]"
          },
          "metadata": {}
        }
      ]
    },
    {
      "cell_type": "code",
      "source": [
        "import seaborn as sns\n",
        "import matplotlib.pyplot as plt\n",
        "\n",
        "# Adicionando cores para destaque\n",
        "sns.boxplot(x='porcentagem de dados faltantes', y='GPVAE', data=df_tratado, color='coral')\n"
      ],
      "metadata": {
        "colab": {
          "base_uri": "https://localhost:8080/",
          "height": 466
        },
        "id": "q-ytp5Y-O64e",
        "outputId": "152e4c0f-b797-410a-f570-66e65fce5a37"
      },
      "execution_count": 26,
      "outputs": [
        {
          "output_type": "execute_result",
          "data": {
            "text/plain": [
              "<Axes: xlabel='porcentagem de dados faltantes', ylabel='GPVAE'>"
            ]
          },
          "metadata": {},
          "execution_count": 26
        },
        {
          "output_type": "display_data",
          "data": {
            "text/plain": [
              "<Figure size 640x480 with 1 Axes>"
            ],
            "image/png": "[encoded data removed]"
          },
          "metadata": {}
        }
      ]
    },
    {
      "cell_type": "markdown",
      "source": [
        "#agora vamos o mesmo dataset com outra formatação"
      ],
      "metadata": {
        "id": "Y7zFWN9pAL1C"
      }
    },
    {
      "cell_type": "code",
      "source": [
        "df3=pd.read_csv('datasetstest - idk.csv')"
      ],
      "metadata": {
        "id": "bwpxolIqSAdB"
      },
      "execution_count": null,
      "outputs": []
    },
    {
      "cell_type": "code",
      "source": [
        "df3.info()"
      ],
      "metadata": {
        "colab": {
          "base_uri": "https://localhost:8080/"
        },
        "id": "wsHV5zsKSokQ",
        "outputId": "717b4f95-672e-49fc-a411-f69f1f04acf6"
      },
      "execution_count": null,
      "outputs": [
        {
          "output_type": "stream",
          "name": "stdout",
          "text": [
            "<class 'pandas.core.frame.DataFrame'>\n",
            "RangeIndex: 250 entries, 0 to 249\n",
            "Data columns (total 4 columns):\n",
            " #   Column                 Non-Null Count  Dtype \n",
            "---  ------                 --------------  ----- \n",
            " 0   % de dados faltantes   250 non-null    int64 \n",
            " 1   RODADA                 250 non-null    int64 \n",
            " 2   VALUE                  250 non-null    object\n",
            " 3   MODEL                  250 non-null    object\n",
            "dtypes: int64(2), object(2)\n",
            "memory usage: 7.9+ KB\n"
          ]
        }
      ]
    },
    {
      "cell_type": "code",
      "source": [
        "df3['VALUE'] = df3['VALUE'].replace(':', '', regex=True)\n"
      ],
      "metadata": {
        "id": "mjv0-ptCVtCz"
      },
      "execution_count": null,
      "outputs": []
    },
    {
      "cell_type": "code",
      "source": [
        "df_clean3= df3.astype({'VALUE': float})"
      ],
      "metadata": {
        "id": "Z8YHP3K5V5ZK"
      },
      "execution_count": null,
      "outputs": []
    },
    {
      "cell_type": "code",
      "source": [
        "SAITS = []\n",
        "USGAN = []\n",
        "GPVAE = []\n",
        "MNN = []\n",
        "brits = []\n",
        "flores = [\"SAITS\", \"USGAN\", \"GPVAE\",\"MNN\",\"brits\"]\n",
        "\n",
        "for j, i in enumerate(df_clean3.iloc[:, 3]):\n",
        "\n",
        "    if i == flores[0]:\n",
        "      SAITS.append(df_clean3.iloc[j, 2])\n",
        "\n",
        "    if i == flores[1]:\n",
        "      USGAN.append(df_clean3.iloc[j, 2])\n",
        "\n",
        "    if i == flores[2]:\n",
        "      GPVAE.append(df_clean3.iloc[j, 2])\n",
        "\n",
        "    if i == flores[3]:\n",
        "      MNN.append(df_clean3.iloc[j, 2])\n",
        "\n",
        "    if i == flores[4]:\n",
        "      brits.append(df_clean3.iloc[j, 2])\n",
        "\n",
        "dados_models = [SAITS, USGAN, GPVAE, MNN, brits]\n"
      ],
      "metadata": {
        "id": "LTYvehYOXzOf"
      },
      "execution_count": null,
      "outputs": []
    },
    {
      "cell_type": "code",
      "source": [
        "#boxplot with color\n",
        "plt.figure(figsize=(11, 6))\n",
        "bplots = plt.boxplot(dados_models, vert=1, patch_artist= True)\n",
        "\n",
        "# Cor do corpo do boxplot\n",
        "colors = ['lightblue', 'darksalmon', 'lightgreen', 'skyblue', 'indianred']\n",
        "for i, bplot in enumerate(bplots['boxes']):\n",
        "    bplot.set(color='black', linewidth=0.5)\n",
        "    bplot.set(facecolor=colors[i])\n",
        "\n",
        "# Linhas de contorno\n",
        "for whisker in bplots['whiskers']:\n",
        "    whisker.set(color='black', linewidth=0.5)\n",
        "\n",
        "for cap in bplots['caps']:\n",
        "    cap.set(color='black', linewidth=0.5)\n",
        "\n",
        "for median in bplots['medians']:\n",
        "    median.set(color='black', linewidth=0.5)\n",
        "\n",
        "# Adicionando Título ao gráfico\n",
        "#title : boxplot of the models\n",
        "plt.title(\"Boxplot da base de dados modelo\", loc=\"center\", fontsize=18)\n",
        "plt.xlabel(\"Tipos de modelo\")\n",
        "plt.ylabel(\"MSE\")\n",
        "\n",
        "plt.show()"
      ],
      "metadata": {
        "colab": {
          "base_uri": "https://localhost:8080/",
          "height": 569
        },
        "id": "VIFHY6eieoRn",
        "outputId": "e03f3650-164a-4280-96c3-babe54f86211"
      },
      "execution_count": null,
      "outputs": [
        {
          "output_type": "display_data",
          "data": {
            "text/plain": [
              "<Figure size 1100x600 with 1 Axes>"
            ],
            "image/png": "[encoded data removed]"
          },
          "metadata": {}
        }
      ]
    },
    {
      "cell_type": "markdown",
      "source": [
        "# MAPA DE CALOR : % , MAE FOR WHICH MODEL ,"
      ],
      "metadata": {
        "id": "03eYs5NbVVsi"
      }
    },
    {
      "cell_type": "code",
      "source": [],
      "metadata": {
        "id": "3Ng0f4lPVQzb"
      },
      "execution_count": null,
      "outputs": []
    },
    {
      "cell_type": "code",
      "source": [
        "import pandas as pd\n",
        "import seaborn as sns\n",
        "import matplotlib.pyplot as plt\n",
        "\n",
        "# Carregando o arquivo CSV\n",
        "file_path = 'seu_arquivo.csv'\n",
        "df = pd.read_csv(file_path, sep='\\t')\n",
        "\n",
        "# Removendo os dois pontos dos nomes das colunas\n",
        "df.columns = df.columns.str.replace(':', '', regex=False)\n",
        "\n",
        "# Convertendo os dados para números (caso estejam como strings)\n",
        "df = df.apply(pd.to_numeric, errors='coerce')\n",
        "\n",
        "# Criando o mapa de calor de correlação\n",
        "plt.figure(figsize=(10, 8))\n",
        "sns.heatmap(df.corr(), annot=True, cmap='coolwarm', fmt=\".4f\", linewidths=0.5)\n",
        "plt.title('Mapa de Calor de Correlação')\n",
        "plt.show()\n",
        "\n"
      ],
      "metadata": {
        "id": "8kYAbU2CANCq"
      },
      "execution_count": null,
      "outputs": []
    },
    {
      "cell_type": "code",
      "source": [
        "SAITS = []\n",
        "USGAN = []\n",
        "GPVAE = []\n",
        "MNN = []\n",
        "brits = []\n",
        "flores = [\"SAITS\", \"USGAN\", \"GPVAE\",\"MNN\",\"brits\"]\n",
        "dados_separados_por_valor = []\n",
        "\n",
        "value = [10, 20, 30, 40, 50]\n",
        "\n",
        "for modelo in dados_models:\n",
        "    dados_por_modelo = []\n",
        "    for v in value:\n",
        "        dados_por_modelo.append(modelo[v-10:v])\n",
        "    dados_separados_por_valor.append(dados_por_modelo)\n"
      ],
      "metadata": {
        "id": "NJFs6E4TTtKP"
      },
      "execution_count": null,
      "outputs": []
    },
    {
      "cell_type": "markdown",
      "source": [
        "#paiplot example"
      ],
      "metadata": {
        "id": "VkBRFZ95GPMT"
      }
    },
    {
      "cell_type": "code",
      "source": [
        "sns.pairplot(df, hue='species', palette='tab10')"
      ],
      "metadata": {
        "id": "0id1tVakGPmb"
      },
      "execution_count": null,
      "outputs": []
    },
    {
      "cell_type": "markdown",
      "source": [
        "#referencias e ajudas\n"
      ],
      "metadata": {
        "id": "MyKbVJ9iQS2N"
      }
    },
    {
      "cell_type": "markdown",
      "source": [
        "links utilizados\n",
        "\n",
        "----\n",
        "\n",
        "https://medium.com/20-21/boxplot-com-python-usando-matplotlib-e-seaborn-be42cea47a6c\n",
        "\n",
        "https://pandas.pydata.org/pandas-docs/stable/reference/api/pandas.DataFrame.boxplot.html\n",
        "\n",
        "https://geeksforgeeks.org/box-plot-visualization-with-pandas-and-seaborn/\n",
        "\n",
        "https://colab.research.google.com/drive/14IAY5Oy68a8ZkYp5vrrEG40uOpa0FDXz#scrollTo=-RL6QcKwX-g_\n",
        "\n",
        "https://scikit-learn.org/stable/modules/generated/sklearn.cluster.KMeans.html#sklearn.cluster.KMeans\n",
        "\n",
        "https://www.youtube.com/watch?v=bRIaNjX7IqY\n",
        "\n",
        "https://www.youtube.com/watch?v=t_8BXJGbqKE\n",
        "\n",
        "https://machinelearningmastery.com/clustering-algorithms-with-python/\n",
        "\n",
        "https://www.analyticsvidhya.com/blog/2021/04/k-means-clustering-simplified-in-python/\n",
        "\n",
        "https://www.codemotion.com/magazine/ai-ml/machine-learning/clustering-python-patterns/\n",
        "\n",
        "https://machinelearningmastery.com/clustering-algorithms-with-python/\n",
        "\n",
        "https://realpython.com/k-means-clustering-python/\n",
        "\n",
        "----"
      ],
      "metadata": {
        "id": "DfiB23V3_j9c"
      }
    }
  ]
}